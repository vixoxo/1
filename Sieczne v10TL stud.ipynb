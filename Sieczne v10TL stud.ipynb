{
 "cells": [
  {
   "cell_type": "code",
   "execution_count": null,
   "id": "cfd13a42-9e52-4165-a793-ca91d9d975b7",
   "metadata": {},
   "outputs": [],
   "source": [
    "# potrzebne biblioteki\n",
    "import numpy as np\n",
    "import matplotlib.pyplot as plt\n",
    "import sympy as sym    "
   ]
  },
  {
   "cell_type": "markdown",
   "id": "8bb855bd-8748-4417-9431-de815b2a7da5",
   "metadata": {},
   "source": [
    "# METODA SIECZNYCH\n",
    "### ZNAJDOWANIE PIERWIASTKÓW FUNKCJI\n",
    "\n",
    "#### Algorytm metody Siecznych\n",
    "dla danej funkcj ___f(x)___    \n",
    "i wybranych &nbsp; __$x_a$__ &nbsp; &nbsp; __$x_b$__ &nbsp; oraz &nbsp; $x_0$,  $x_1$  &nbsp; takich że:\n",
    "> <mark>__f<sup>'</sup>(x)__  i __f<sup>''</sup>(x)__ nie zmieniają znaku w przedziale $[x_a, x_b]$ </mark>\n",
    "> \n",
    "> __f(x<sub>a</sub>) * f(x<sub>b</sub>) < 0__\n",
    "> \n",
    ">  <mark>__f( $x_0$ )__ * __f<sup>''</sup>( $x_0$ ) > 0__ </mark>  &nbsp; i &nbsp;  <mark>__f( $x_1$ )__  * __f<sup>''</sup>( $x_1$ ) > 0__ </mark>\n",
    "\n",
    "wykonaj : \n",
    "> dane: $f$, $x_0$, $x_1$, $eps $  \n",
    ">powtarzaj dla k =   1, 2, ....\n",
    ">> dopóki:\n",
    ">>$ | f(x_{k}) | > eps $  \n",
    ">>  $ x_{k+1}=x_k- f(x_k) \\dfrac{x_k - x_{k-1}}{f^({x_k})-f(x_{k-1})} $\n",
    ">>\n",
    "\n"
   ]
  },
  {
   "cell_type": "markdown",
   "id": "07579010-f6e1-4b96-8796-768769ab527d",
   "metadata": {},
   "source": [
    "#### podstawowe funkcje SymPy  \n",
    "\n",
    "| | |\n",
    "|--|--|\n",
    "|zmienna symboliczna   |sym_x = sym.__Symbol__('x') |\n",
    "|pochodna| sym_f_p1x = sym.__diff__(sym_f, x)   |          \n",
    "|przekształcenie - uproszczenie|sym_C = sym.__simplify__(sym_x + sym_y)|\n",
    "| przeksztalcenie do funkcji numerycznej|          f = sym.__lambdify__([x, y], sym_f) |  \n",
    "\n",
    "```python\n",
    "sym_x = sym.Symbol('x')              sym_f_p1x = sym.diff(f, x)  \n",
    "sym_S = sym.simplify(sym_x + sym_y)          f = sym.lambdify([x, y], sym_f)  \n",
    "\n",
    "def fun (arg):\n",
    "    .....\n",
    "    .....\n",
    "    return wynik    "
   ]
  },
  {
   "cell_type": "markdown",
   "id": "f543e279-79b1-4662-b76a-c5b067f61be4",
   "metadata": {},
   "source": [
    "___\n",
    "\n",
    "- napisz procedurę __met_sieczne( )__ znajdowania pierwiastka funkcji metodą siecznych z zadaną dokładnością $eps$\n",
    "- ##### znajdź pierwiastki :  &nbsp; &nbsp; &nbsp; $f(x)=  x^2 - 2 $\n",
    "- dla różnych wartości warunku stopu oblicz bład bezwględny i względny względem rozwiązania \"ścisłego\""
   ]
  },
  {
   "cell_type": "code",
   "execution_count": null,
   "id": "b005087a-1031-4734-a677-bafb4b464fdf",
   "metadata": {},
   "outputs": [],
   "source": [
    "# samodzielnie znajdź metodą siecznych pierwiastki funkcji f -> x0f\n",
    "# wyznacz pierwszą i druga pochodną f -> f_p1 i f_p2\n",
    "\n"
   ]
  },
  {
   "cell_type": "code",
   "execution_count": null,
   "id": "5d4d2796-bbf6-4a46-8919-47ab7bff30d0",
   "metadata": {},
   "outputs": [],
   "source": [
    "# Rysowanie wykresu funkcji f(x) w przedziale xA - xB \n",
    "# zaznaczenie znalezionego pierwiastka funkcji\n",
    "\n",
    "[xA,xB]=[-2,2]\n",
    "n_pkt=101      # liczba punktów w xA- xB\n",
    "s = np.linspace(xA, xB, n_pkt)   # punkty podziału x\n",
    "t = [f(elm) for elm in s]        # t = wartości f(x) dla wszystkich elementów s\n",
    "\n",
    "xRES = [x0f]                     # punkt końcowy algorytmu\n",
    "yRES=[f(x0f)]\n",
    "\n",
    "#opcje rysunku\n",
    "fig = plt.figure()\n",
    "ax = fig.add_subplot(1, 1, 1)\n",
    "# ramki rysunku jako osie\n",
    "# ax.spines.left.set_position('zero')  #   tej krawedzi ramki nie przesuwamy\n",
    "ax.spines.bottom.set_position('zero')\n",
    "ax.spines.right.set_visible(False)     # niewidoczne ramki rysunku\n",
    "ax.spines.top.set_visible(False)\n",
    "\n",
    "# opcje rysowania punktów \n",
    "ax.scatter(xRES,yRES,c='b')           # wartości funkcji w punkcie. końcowym - kolor niebieski\n",
    "\n",
    "plt.plot(s, t)\n",
    "plt.show()"
   ]
  },
  {
   "cell_type": "markdown",
   "id": "ece7dcfb-126d-4467-bb24-e9a8619fa5d2",
   "metadata": {},
   "source": [
    "dla funkcji  $\\quad g(x)=(x**2-2)*(x-30)*(x+30)/900    $  \n",
    "\n",
    "- wyznacz pierwszą __g_p1__ i drugą  __g_p2__ pochodną funkcji\n",
    "- znajdź wszystkie pierwiastki  > 0  i pokaż je na wykresie  \n",
    "- dla każdego pierwiastka określ i sprawdź poprawność warunków  punktów startowych"
   ]
  },
  {
   "cell_type": "code",
   "execution_count": null,
   "id": "fa3518a0-3c06-4e0a-89ce-ac2a261c1e39",
   "metadata": {},
   "outputs": [],
   "source": [
    "# obliczenia dla funkcji g\n",
    "\n"
   ]
  },
  {
   "cell_type": "code",
   "execution_count": null,
   "id": "c5ffeb40-e5e3-47ab-bf86-c0782911e8ef",
   "metadata": {},
   "outputs": [],
   "source": [
    "# Rysowanie wykresu funkcji fun (x) i jej pochodnych\n",
    "(fun,fun_p1,fun_p2)=(f,f_p1,f_p2)   # \"wyhashować# nipeotrzebną linie \n",
    "#(fun,fun_p1,fun_p2)=(g,g_p1,g_p2)\n",
    "\n",
    "# przedział rysowania\n",
    "[xA,xB]=[-3,3]\n",
    "n_pkt=101                        # liczba punktów w xA- xB\n",
    "s = np.linspace(xA, xB, n_pkt)   # punkty podziału x\n",
    "\n",
    "xRES = [x0f]                     # punkt końcowy algorytmu pierwiastek funkcji f(x)\n",
    "yRES=[f(x0f)]\n",
    "\n",
    "# wybór obliczeni wartości y dla funkcji, pochodnej i drugiej pochodnej wybranej funkcji\n",
    "yfun=[fun(elm) for elm in s]    # wartości fun'(x)\n",
    "yfun_p1=[fun_p1(elm) for elm in s]    # wartości fun'(x)\n",
    "yfun_p2=[fun_p2(elm) for elm in s]    # wartości fun''(x)  \n",
    "\n",
    "scala=max(yfun)\n",
    "znak_fun = scala*0.5*np.sign(yfun)\n",
    "znak_fun_p1 = scala*0.3*np.sign(yfun_p1)\n",
    "znak_fun_p2 = scala*0.25*np.sign(yfun_p2)\n",
    "\n",
    "#opcje rysunku\n",
    "fig=plt.figure(figsize=(10,6))    # rozmiary rysunku  UWAGA na skalowanie wartości\n",
    "ax = fig.add_subplot(1, 1, 1)\n",
    "# ramki rysunku jako osie\n",
    "# ax.spines.left.set_position('zero')  #   tej krawędzi ramki nie przesuwamy\n",
    "ax.spines.bottom.set_position('zero')\n",
    "ax.spines.right.set_visible(False)     # niewidoczne ramki rysunku\n",
    "ax.spines.top.set_visible(False)\n",
    "\n",
    "# opcje rysowania punktów \n",
    "ax.scatter(xRES,yRES,c='blue')           # wartości funkcji w punkcie. końcowym - kolor niebieski\n",
    "ax.scatter(s, znak_fun,c=\"b\",marker=\"_\",linewidth=0.3)\n",
    "ax.scatter(s, znak_fun_p1,c=\"orange\",marker=\"_\",linewidth=0.3)\n",
    "ax.scatter(s, znak_fun_p2,c=\"g\",marker=\"_\",linewidth=0.3)\n",
    "\n",
    "plt.plot(s, yfun, color=\"blue\")\n",
    "plt.plot(s, yfun_p1,linewidth=1, color=\"orange\")\n",
    "plt.plot(s, yfun_p2,linewidth=1, color=\"g\")\n",
    "\n",
    "plt.show()"
   ]
  },
  {
   "cell_type": "markdown",
   "id": "3988ede9-1471-4f75-a078-db3ddf701a26",
   "metadata": {},
   "source": [
    "#### Przypomnijmy\n",
    "> <mark>__f<sup>'</sup>(x)__  i __f<sup>''</sup>(x)__ nie zmieniają znaku w przedziale $[x_a, x_b]$ </mark>\n",
    "> \n",
    "> __f(x<sub>a</sub>) * f(x<sub>b</sub>) < 0__\n",
    "> \n",
    ">  <mark>__f( $x_0$ )__ * __f<sup>''</sup>( $x_0$ ) > 0__ </mark>  &nbsp; i &nbsp;  <mark>__f( $x_1$ )__  * __f<sup>''</sup>( $x_1$ ) > 0__ </mark>\n"
   ]
  }
 ],
 "metadata": {
  "kernelspec": {
   "display_name": "Python 3 (ipykernel)",
   "language": "python",
   "name": "python3"
  },
  "language_info": {
   "codemirror_mode": {
    "name": "ipython",
    "version": 3
   },
   "file_extension": ".py",
   "mimetype": "text/x-python",
   "name": "python",
   "nbconvert_exporter": "python",
   "pygments_lexer": "ipython3",
   "version": "3.9.13"
  }
 },
 "nbformat": 4,
 "nbformat_minor": 5
}
