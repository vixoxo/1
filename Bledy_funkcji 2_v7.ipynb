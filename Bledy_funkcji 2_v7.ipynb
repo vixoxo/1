{
 "cells": [
  {
   "cell_type": "markdown",
   "id": "fde52843-fb4b-4730-ade9-9ef70483f533",
   "metadata": {},
   "source": [
    "## Zadanie 2\n",
    "#### funkcja dwóch zmiennych\n",
    "Wyznaczyć błąd względny i bezwzględny jaki popełniamy przy obliczaniu pola powierzchni trapezu o podstawach  \n",
    "$\\qquad$ $x = 2.15 \\qquad$ oraz $ \\qquad y = 3.78$  \n",
    "i o wysokości równej krótszej podstawie  \n",
    "(wartość $x$ obarczona jest błędem bezwzględnym $\\Delta_x =0.02$, a $y$ błędem bezwzględnym $\\Delta_y =0.05$).\n",
    "\n",
    "Dodatkowo:\n",
    "- sprawdzić czy zadanie jest dobrze uwarunkowane,\n",
    "- zbadać uwarunkowanie obliczania wartości danej funkcji dla dowolonych argumentów $x$, $y$."
   ]
  },
  {
   "cell_type": "markdown",
   "id": "803f084a-cbfc-4d3a-b9ce-b873831eebb6",
   "metadata": {},
   "source": [
    "***\n",
    "#### <mark> UWAGA </mark> biblioteki są ładowane <u>__oddzielnie__</u> dla każdego pliku"
   ]
  },
  {
   "cell_type": "code",
   "execution_count": 1,
   "id": "8d7cce22",
   "metadata": {},
   "outputs": [
    {
     "ename": "ModuleNotFoundError",
     "evalue": "No module named 'numpy'",
     "output_type": "error",
     "traceback": [
      "\u001b[1;31m---------------------------------------------------------------------------\u001b[0m",
      "\u001b[1;31mModuleNotFoundError\u001b[0m                       Traceback (most recent call last)",
      "Cell \u001b[1;32mIn[1], line 2\u001b[0m\n\u001b[0;32m      1\u001b[0m \u001b[38;5;66;03m#Import bibliotek \u001b[39;00m\n\u001b[1;32m----> 2\u001b[0m \u001b[38;5;28;01mimport\u001b[39;00m \u001b[38;5;21;01mnumpy\u001b[39;00m \u001b[38;5;28;01mas\u001b[39;00m \u001b[38;5;21;01mnp\u001b[39;00m\n\u001b[0;32m      3\u001b[0m \u001b[38;5;28;01mimport\u001b[39;00m \u001b[38;5;21;01mmatplotlib\u001b[39;00m\u001b[38;5;21;01m.\u001b[39;00m\u001b[38;5;21;01mpyplot\u001b[39;00m \u001b[38;5;28;01mas\u001b[39;00m \u001b[38;5;21;01mplt\u001b[39;00m\n\u001b[0;32m      4\u001b[0m \u001b[38;5;28;01mimport\u001b[39;00m \u001b[38;5;21;01msympy\u001b[39;00m \u001b[38;5;28;01mas\u001b[39;00m \u001b[38;5;21;01msym\u001b[39;00m\n",
      "\u001b[1;31mModuleNotFoundError\u001b[0m: No module named 'numpy'"
     ]
    }
   ],
   "source": [
    "#Import bibliotek \n",
    "import numpy as np\n",
    "import matplotlib.pyplot as plt\n",
    "import sympy as sym"
   ]
  },
  {
   "cell_type": "code",
   "execution_count": 2,
   "id": "929c7905-bd6a-4a3d-9024-415ffb5404d7",
   "metadata": {},
   "outputs": [],
   "source": [
    "D_x = 0.02       # błędy bezwględne\n",
    "D_y = 0.05\n",
    "\n",
    "x = sym.Symbol('x')\n",
    "y = sym.Symbol('y')\n",
    "\n",
    "sym_f = ((x + y)/2)*x    # funkcja dwóch zmiennych - na liczenia pola trapezu\n",
    "sym_f_p1x = sym.diff(sym_f, x)   # pierwsza pochodna po  x\n",
    "sym_f_p1y = sym.diff(sym_f, y)   # pierwsza pochodna po  y"
   ]
  },
  {
   "cell_type": "code",
   "execution_count": 3,
   "id": "a08f2070-1e27-46ec-abf8-89ffa8f75f2a",
   "metadata": {},
   "outputs": [
    {
     "data": {
      "text/latex": [
       "$\\displaystyle x + \\frac{y}{2}$"
      ],
      "text/plain": [
       "x + y/2"
      ]
     },
     "execution_count": 3,
     "metadata": {},
     "output_type": "execute_result"
    }
   ],
   "source": [
    "sym_f_p1x"
   ]
  },
  {
   "cell_type": "code",
   "execution_count": 4,
   "id": "444566d4-5f96-43b2-905d-955acb158242",
   "metadata": {},
   "outputs": [
    {
     "data": {
      "text/latex": [
       "$\\displaystyle \\frac{x}{2}$"
      ],
      "text/plain": [
       "x/2"
      ]
     },
     "execution_count": 4,
     "metadata": {},
     "output_type": "execute_result"
    }
   ],
   "source": [
    "sym_f_p1y"
   ]
  },
  {
   "cell_type": "markdown",
   "id": "d7e34bed-ea3d-4efd-b6cb-785460704e22",
   "metadata": {},
   "source": [
    "Zapisujemy wszystkie potrzebne funkcje:"
   ]
  },
  {
   "cell_type": "code",
   "execution_count": 5,
   "id": "3a18ffdc-7ca5-461d-917b-bb6aa17d4b1d",
   "metadata": {},
   "outputs": [],
   "source": [
    "sym_D_f = abs(sym_f_p1x)*D_x + abs(sym_f_p1y)*D_y   # bład bezwględny funkcji\n",
    "sym_d_f = sym_D_f/abs(sym_f)                      # bład względny funkcji\n",
    "sym_d_x = D_x/abs(x)                                  # błędy względne argumentów\n",
    "sym_d_y = D_y/abs(y)"
   ]
  },
  {
   "cell_type": "markdown",
   "id": "da29844d-27f6-4bce-bedf-2fadc62389ec",
   "metadata": {},
   "source": [
    "Wskaźniki uwarunkowania zadania ze względu na obie zmienne"
   ]
  },
  {
   "cell_type": "code",
   "execution_count": 6,
   "id": "d94f2200-c4bf-4a35-83aa-2559143e3b48",
   "metadata": {},
   "outputs": [],
   "source": [
    "sym_Cx = (abs(x)*abs(sym_f_p1x))/abs(sym_f)\n",
    "sym_Cy = (abs(y)*abs(sym_f_p1y))/abs(sym_f)"
   ]
  },
  {
   "cell_type": "markdown",
   "id": "c3adf87d-f0b9-4cba-b13d-8b2d3b1d3396",
   "metadata": {},
   "source": [
    "o wskazniku uwarunkowania swiadczy suma powyzszych"
   ]
  },
  {
   "cell_type": "code",
   "execution_count": 7,
   "id": "7447d7a8-aa7d-4a52-bc89-37ceaf9aa403",
   "metadata": {},
   "outputs": [
    {
     "data": {
      "text/latex": [
       "$\\displaystyle \\left|{\\frac{y}{x + y}}\\right| + \\left|{\\frac{2 x + y}{x + y}}\\right|$"
      ],
      "text/plain": [
       "Abs(y/(x + y)) + Abs((2*x + y)/(x + y))"
      ]
     },
     "execution_count": 7,
     "metadata": {},
     "output_type": "execute_result"
    }
   ],
   "source": [
    "sym_C = sym.simplify(sym_Cx + sym_Cy)\n",
    "sym_C"
   ]
  },
  {
   "cell_type": "markdown",
   "id": "590a9798-ad79-4ec0-bc29-61b6e53ad962",
   "metadata": {},
   "source": [
    "w tym miejscu odpowiadamy na pytanie o uwarunkowaniu zadania obliczeniowego:  \n",
    "na podstawie powyższego wzoru analizujemy, że dla argumentów $x$, $y$ tego samego znaku wskaźnik uwarunkowania wynosi $2$ (zadanie dobrze uwarunkowane),  \n",
    "mimo, że badana funkcja rozumiana jako pole powierzchni trapezu może przyjmować jedynie dodanie argumenty,  \n",
    "teoretycznie zadanie jest źle uwarunkowane kiedy $x$ równy jest w przybliżeniu $-y$  \n",
    "(co oznaczana, ze $x$ i $y$ mają różne znaki - brak sensu fizycznego dla zadania pola trapezu).\n"
   ]
  },
  {
   "cell_type": "markdown",
   "id": "bb0350b0-cb1f-4dfb-bcae-12a3ad4716a0",
   "metadata": {},
   "source": [
    "__Zmiana z funkcji symbolicznych na numeryczne__   \n",
    "użycie funkcji <mark>__lambdify__</mark> do utworzenia wzorów _\"numerycznych\"_ ze wzorów _\"symbolicznych\"_"
   ]
  },
  {
   "cell_type": "code",
   "execution_count": 8,
   "id": "82221507-ecca-4252-8f76-808113beacb7",
   "metadata": {},
   "outputs": [],
   "source": [
    "f = sym.lambdify([x, y], sym_f)\n",
    "f_p1x = sym.lambdify([x, y], sym_f_p1x)\n",
    "f_p1y = sym.lambdify([x, y], sym_f_p1y)\n",
    "d_f = sym.lambdify([x, y], sym_d_f)\n",
    "D_f = sym.lambdify([x, y], sym_D_f)\n",
    "d_x = sym.lambdify(x, sym_d_x)\n",
    "d_y = sym.lambdify(y, sym_d_y)\n",
    "Cx = sym.lambdify([x, y], sym_Cx)\n",
    "Cy = sym.lambdify([x, y], sym_Cy)\n",
    "C = sym.lambdify([x, y], sym_C)"
   ]
  },
  {
   "cell_type": "code",
   "execution_count": 9,
   "id": "bd897cbc-a2e4-4d98-ab69-911e5cd2e6c6",
   "metadata": {},
   "outputs": [],
   "source": [
    "# podstawiamy wartości współrzędnych\n",
    "x = 2.15\n",
    "y = 3.78\n",
    "# i obliczamy błędy w punkcie"
   ]
  },
  {
   "cell_type": "code",
   "execution_count": 10,
   "id": "676882d9-ad1f-49d0-b711-624a1484b367",
   "metadata": {},
   "outputs": [
    {
     "data": {
      "text/plain": [
       "0.009302325581395349"
      ]
     },
     "execution_count": 10,
     "metadata": {},
     "output_type": "execute_result"
    }
   ],
   "source": [
    "d_x(x)     # bład względny argumentu x"
   ]
  },
  {
   "cell_type": "code",
   "execution_count": 11,
   "id": "01df4b27-27e3-4082-8243-8d6112772a31",
   "metadata": {},
   "outputs": [
    {
     "data": {
      "text/plain": [
       "0.013227513227513229"
      ]
     },
     "execution_count": 11,
     "metadata": {},
     "output_type": "execute_result"
    }
   ],
   "source": [
    "d_y(y)    # bład względny argumentu y"
   ]
  },
  {
   "cell_type": "code",
   "execution_count": 12,
   "id": "5ec162d4-e2c0-4f2b-8a09-a63e9a51a3bd",
   "metadata": {},
   "outputs": [
    {
     "data": {
      "text/plain": [
       "0.13455"
      ]
     },
     "execution_count": 12,
     "metadata": {},
     "output_type": "execute_result"
    }
   ],
   "source": [
    "D_f(x, y)    # bład bezwzględny funkcji w punkcie (x,y)"
   ]
  },
  {
   "cell_type": "code",
   "execution_count": 13,
   "id": "4c116173-c7fa-4b19-8c1c-21a4ca7d8254",
   "metadata": {},
   "outputs": [
    {
     "data": {
      "text/plain": [
       "0.021106710067061454"
      ]
     },
     "execution_count": 13,
     "metadata": {},
     "output_type": "execute_result"
    }
   ],
   "source": [
    "d_f(x, y)    # bład względny funkcji w punkcie (x,y)"
   ]
  },
  {
   "cell_type": "code",
   "execution_count": 14,
   "id": "2f037fab-90fb-40d4-8913-ca8a4f92b8f9",
   "metadata": {},
   "outputs": [
    {
     "data": {
      "text/plain": [
       "1.3625632377740304"
      ]
     },
     "execution_count": 14,
     "metadata": {},
     "output_type": "execute_result"
    }
   ],
   "source": [
    "Cx(x, y)      # wartość wskaźnika uwarunkowania ze względu na x"
   ]
  },
  {
   "cell_type": "code",
   "execution_count": 15,
   "id": "8fd6fa1e-3074-4744-afdb-55c42f4e9d97",
   "metadata": {},
   "outputs": [
    {
     "data": {
      "text/plain": [
       "0.6374367622259696"
      ]
     },
     "execution_count": 15,
     "metadata": {},
     "output_type": "execute_result"
    }
   ],
   "source": [
    "Cy(x, y)      # wartość wskaźnika uwarunkowania ze względu na y"
   ]
  },
  {
   "cell_type": "code",
   "execution_count": 16,
   "id": "afe0d84c-c53a-4ce4-b34e-278c0ea21cb9",
   "metadata": {},
   "outputs": [
    {
     "data": {
      "text/plain": [
       "2.0"
      ]
     },
     "execution_count": 16,
     "metadata": {},
     "output_type": "execute_result"
    }
   ],
   "source": [
    "C(x, y)       # wartość wskaźnika uwarukowania dla funkcji"
   ]
  },
  {
   "cell_type": "code",
   "execution_count": 17,
   "id": "cb4e4be7-e0b5-4932-bb56-cd6d8795f149",
   "metadata": {},
   "outputs": [
    {
     "data": {
      "text/plain": [
       "[2.0, 2.0, 2.0]"
      ]
     },
     "execution_count": 17,
     "metadata": {},
     "output_type": "execute_result"
    }
   ],
   "source": [
    "[C(4, 5), C(5, 7), C(6.67, 5.74)]   # wartośći C w kilku punktach. [..] - wektor "
   ]
  },
  {
   "cell_type": "code",
   "execution_count": 20,
   "id": "1f72394a-99e1-4aa0-a3a7-4d40016b30b1",
   "metadata": {},
   "outputs": [
    {
     "data": {
      "text/plain": [
       "0.021106710067061454"
      ]
     },
     "execution_count": 20,
     "metadata": {},
     "output_type": "execute_result"
    }
   ],
   "source": [
    "#Błąd względny funkcji policzony na podstawie wskaźnika uwarunkowania\n",
    "Cx(x,y)*d_x(x) + Cy(x,y)*d_y(y)"
   ]
  }
 ],
 "metadata": {
  "kernelspec": {
   "display_name": "Python 3 (ipykernel)",
   "language": "python",
   "name": "python3"
  },
  "language_info": {
   "codemirror_mode": {
    "name": "ipython",
    "version": 3
   },
   "file_extension": ".py",
   "mimetype": "text/x-python",
   "name": "python",
   "nbconvert_exporter": "python",
   "pygments_lexer": "ipython3",
   "version": "3.9.13"
  }
 },
 "nbformat": 4,
 "nbformat_minor": 5
}
