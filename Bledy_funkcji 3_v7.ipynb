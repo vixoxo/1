{
 "cells": [
  {
   "cell_type": "markdown",
   "id": "7d08731b-6127-4795-8f65-785b3c611b50",
   "metadata": {},
   "source": [
    "## Zadanie 4\n",
    "#### do wykonania samodzielnego\n",
    "Obliczyć wskaźnik uwarunkowania obliczania wartości funkcji dwóch zmiennych:\n",
    "\n",
    "$$f(x, y) = x + y^2$$\n",
    "\n",
    "dla wartości $x_A = -3.56$, $y_A = 2.57$ oraz dla $x_B = 1.41$, $y_B = -2.05$.\n",
    "\n",
    "- przymij że  $ \\Delta x = 0.001 $  a $ \\Delta y = 0.0025 $\n",
    "\n",
    "- sprawdzić czy zadanie jest dobrze uwarunkowane,\n",
    "- zbadać uwarunkowanie obliczania wartości danej funkcji dla kilku argumentów  $x$, $y$ leżacych na prostej $(x_A,y_A), (x_B,y_B)$"
   ]
  },
  {
   "cell_type": "code",
   "execution_count": null,
   "id": "980eb3c5",
   "metadata": {},
   "outputs": [],
   "source": [
    "#Import bibliotek\n",
    "import numpy as np\n",
    "import matplotlib.pyplot as plt\n",
    "import sympy as sym"
   ]
  },
  {
   "cell_type": "markdown",
   "id": "cb8a2155-b639-40b6-991c-eaec1a7b00ae",
   "metadata": {},
   "source": [
    "### Nazwy zmiennych przyjęte w `Python`\n",
    "\n",
    "> zmienną $\\Delta f$ będziemy oznaczać `D_f`  a zmienną  $\\Delta x $  przez `D_x` &nbsp; &nbsp; &nbsp; (bezwględne)  \n",
    "> zmienną $\\delta f$ będziemy oznaczać `d_f` oraz analogicznie $\\delta x $ przez `d_x`&nbsp; &nbsp; &nbsp;  (względne)\n",
    ">\n",
    "> pochodne f'(x)  f''(x)  f'''(x) odpowiednio `f_p1` `f_p2` `f_p3`"
   ]
  },
  {
   "cell_type": "markdown",
   "id": "c495f63c-c2f7-40fd-9682-95e6c168d928",
   "metadata": {},
   "source": [
    "Błąd bezwzględny wartości argumentu  &nbsp; &nbsp; &nbsp;   $\\Delta x $\n",
    "\n",
    "Błąd bezwzględny wartości funkcji &nbsp; &nbsp; &nbsp;  $ \\Delta f = |f'(x)| \\cdot \\Delta x$\n",
    "\n",
    "Błąd względny argumentu &nbsp; &nbsp; &nbsp; &nbsp; &nbsp; &nbsp; &nbsp; $ \\delta x = \\dfrac {\\Delta x}{|x|} $\n",
    "\n",
    "Błąd względny wartości funkcji  &nbsp; &nbsp; &nbsp; &nbsp; &nbsp; &nbsp; &nbsp; $\\delta f = \\dfrac{\\Delta f}{|f(x)|}$  \n",
    "__<u>Wskaźnik uwarunkowania</u> &nbsp; &nbsp; &nbsp; &nbsp; &nbsp; &nbsp; &nbsp; $ C(x) = | \\dfrac{x \\cdot f'(x)}{f(x)} |$__ \n",
    " &nbsp; &nbsp; &nbsp; &nbsp;Zauważmy, że:  &nbsp; &nbsp;  $\\delta f = C(x) \\cdot \\delta x $\n",
    "\n",
    "<u>Wskaźnik uwarunkowania (funkcja wielu zmiennych)</u>  &nbsp; &nbsp;\n",
    "$C_x = |\\dfrac{x \\cdot \\frac{\\partial f}{\\partial x} (x,y)}{f(x,y)}|$  &nbsp; &nbsp; $C_y = |\\dfrac{y \\cdot \\frac{\\partial f}{\\partial y} (x,y)}{f(x,y)}|$ &nbsp; &nbsp;oraz, że:  &nbsp; &nbsp;  $\\delta f = C_x \\cdot \\delta x + C_y \\cdot \\delta y $"
   ]
  },
  {
   "cell_type": "markdown",
   "id": "6db39fe6-1244-4caf-ac6a-9ddced5e7882",
   "metadata": {},
   "source": [
    "\n",
    "#### podstawowe funkcjie SymPy  \n",
    "\n",
    "| | |\n",
    "|--|--|\n",
    "|zmienna symboliczna   | x = sym.__Symbol__('x') |\n",
    "|pochodna| sym_f_p1x = sym.__diff__(f, x)   |          \n",
    "|przekształcenie - uproszczenie|C = sym.__simplify__(sym_x + sym_y|\n",
    "| przeksztalcenie do funkcji numerycznej|          f = sym.__lambdify__([x, y], sym_f) |  \n",
    "\n",
    "```python\n",
    "x = sym.Symbol('x')        sym_f_p1x = sym.diff(f, x)     sym_S = sym.simplify(sym_x + sym_y)     f = sym.lambdify([x, y], sym_f)  "
   ]
  }
 ],
 "metadata": {
  "kernelspec": {
   "display_name": "Python 3 (ipykernel)",
   "language": "python",
   "name": "python3"
  },
  "language_info": {
   "codemirror_mode": {
    "name": "ipython",
    "version": 3
   },
   "file_extension": ".py",
   "mimetype": "text/x-python",
   "name": "python",
   "nbconvert_exporter": "python",
   "pygments_lexer": "ipython3",
   "version": "3.9.5"
  }
 },
 "nbformat": 4,
 "nbformat_minor": 5
}
