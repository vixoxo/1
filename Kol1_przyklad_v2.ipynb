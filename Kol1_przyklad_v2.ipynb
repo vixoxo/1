{
 "cells": [
  {
   "cell_type": "markdown",
   "id": "a49ce1b9-b7fa-4ce0-8c4c-9afb81dac77e",
   "metadata": {
    "editable": true,
    "slideshow": {
     "slide_type": ""
    },
    "tags": []
   },
   "source": [
    "Nazwisko i imię: Kowalski Jan\n",
    "\n",
    "Numer indeksu: 999999"
   ]
  },
  {
   "cell_type": "markdown",
   "id": "9a69e258-f74e-43e2-a948-193031517286",
   "metadata": {
    "editable": false,
    "slideshow": {
     "slide_type": ""
    },
    "tags": []
   },
   "source": [
    "Proszę zmienić nazwę pliku wg wzoru: \"Pt_08_NrTematu_Nazwisko_nrIndeksu\", w przykładzie \"Pt_08_A_Kowalski_999999\""
   ]
  },
  {
   "cell_type": "markdown",
   "id": "33a40f08-2e24-4184-8c6e-d120a50611ce",
   "metadata": {
    "slideshow": {
     "slide_type": ""
    },
    "tags": []
   },
   "source": [
    "Uwaga poniżej zamieszczono przykładowe kolokwium z szablonem rozwiązania. Student rozwiązując zadania na kolokwium powinnien umieścić komentarze podsumowujące swoje rozwiązanie. Sprawdzający kolokwium  może dopytywać studenta odnośnie umieszczonego przez studenta rozwiązania w celu sprawdzenia na ile student rozumie umieszczone rozwiązanie i czy praca wykonana jest samodzielnie."
   ]
  },
  {
   "cell_type": "markdown",
   "id": "b73d9041-8248-442b-951b-3c09a631cabb",
   "metadata": {
    "editable": true,
    "slideshow": {
     "slide_type": ""
    },
    "tags": []
   },
   "source": [
    "# KOLOKWIUM 1 - TEMAT A "
   ]
  },
  {
   "cell_type": "markdown",
   "id": "02e12538-87dd-4f17-ba16-09ff1c06c16b",
   "metadata": {
    "editable": false,
    "slideshow": {
     "slide_type": ""
    },
    "tags": []
   },
   "source": [
    "## Zadanie 1 (5 punktów)\n",
    "\n",
    "Dla funkcji:\n",
    "\n",
    "$$f(x) = \\dfrac{1}{x-2}$$\n",
    "\n",
    "* wyznacz wskaźnik uwarunkowania zadania obliczania wartości tej funkcji (wzór oraz narysuj wykres tego wskaźnika w przedziale $[-10,10]$).\n",
    "* sprawdź wartość błędu względnego i bezwzględnego funkcji dla wartości argumentów: $x_A = -3.5$, $x_B = 1.99$.  \n",
    "przymij oszacowanie błędu bezwględnego argumentu jako: $ \\Delta x = 0.001 $\n",
    "* czy zadania obliczania wartości funkcji dla argumentów $x_A$, $x_B$ są dobrze uwarunkowane?\n",
    "\n",
    "Uwaga! Uprość wzór na wskaźnik uwarunkowania korzystsając z funkcji sym.simplify(...)"
   ]
  },
  {
   "cell_type": "markdown",
   "id": "796b327d-8eec-4ae9-9946-82281df56b52",
   "metadata": {
    "editable": false,
    "slideshow": {
     "slide_type": ""
    },
    "tags": []
   },
   "source": [
    "## Zadanie 2 (4 punkty)\n",
    "\n",
    "Dany jest szereg:\n",
    "\n",
    "$$\\sum_{n=1}^{\\infty} \\dfrac{\\cos^2(n)}{n^4+2}$$\n",
    "\n",
    "* oblicz sumę tego szeregu. Przy czym skończ obliczenia gdy wartość bezwzględna wyrazu tego szeregu jest mniejsza niż  $\\varepsilon = 10^{-5}$. \n",
    "* wyświetl na ekranie $n$-ty wyraz oraz $n$-tą sumę częściową.\n",
    "* wyświetl sumę szeregu oraz liczbę przesumowanych wyrazów."
   ]
  },
  {
   "cell_type": "markdown",
   "id": "0dddbddd-4de8-4fb4-a1fb-341094bbc3ef",
   "metadata": {
    "editable": false,
    "slideshow": {
     "slide_type": ""
    },
    "tags": []
   },
   "source": [
    "## Zadanie 3 (7 punktów)\n",
    "\n",
    "\n",
    "Dla funkcji: \n",
    "\n",
    "$$g(x) = -x^4 + 2  x^3 - 4 + e^{-x}$$\n",
    "\n",
    "znajdź z dokladnością $\\varepsilon = 10^{-10}$ __drugie dodatnie__ miejsce zerowe tej funkcji korzystając z metody __Newtona__. <br>\n",
    "Rozwiązując zadanie sprawdź, czy spełnione są warunki zbieżności używanej metody!!!"
   ]
  },
  {
   "cell_type": "markdown",
   "id": "9627d553-b0bb-45d8-a2eb-1d9503d11cd7",
   "metadata": {
    "editable": true,
    "slideshow": {
     "slide_type": ""
    },
    "tags": []
   },
   "source": [
    "# ROZWIĄZANIE"
   ]
  },
  {
   "cell_type": "code",
   "execution_count": 4,
   "id": "f99fca24-c33b-4029-b1e5-7cf21eed1a09",
   "metadata": {
    "slideshow": {
     "slide_type": ""
    },
    "tags": []
   },
   "outputs": [
    {
     "ename": "ModuleNotFoundError",
     "evalue": "No module named 'numpy'",
     "output_type": "error",
     "traceback": [
      "\u001b[1;31m---------------------------------------------------------------------------\u001b[0m",
      "\u001b[1;31mModuleNotFoundError\u001b[0m                       Traceback (most recent call last)",
      "Cell \u001b[1;32mIn[4], line 2\u001b[0m\n\u001b[0;32m      1\u001b[0m \u001b[38;5;66;03m#Bibilioteki\u001b[39;00m\n\u001b[1;32m----> 2\u001b[0m \u001b[38;5;28;01mimport\u001b[39;00m \u001b[38;5;21;01mnumpy\u001b[39;00m \u001b[38;5;28;01mas\u001b[39;00m \u001b[38;5;21;01mnp\u001b[39;00m\n\u001b[0;32m      3\u001b[0m \u001b[38;5;28;01mimport\u001b[39;00m \u001b[38;5;21;01mmatplotlib\u001b[39;00m\u001b[38;5;21;01m.\u001b[39;00m\u001b[38;5;21;01mpyplot\u001b[39;00m \u001b[38;5;28;01mas\u001b[39;00m \u001b[38;5;21;01mplt\u001b[39;00m\n\u001b[0;32m      4\u001b[0m \u001b[38;5;28;01mimport\u001b[39;00m \u001b[38;5;21;01msympy\u001b[39;00m \u001b[38;5;28;01mas\u001b[39;00m \u001b[38;5;21;01msym\u001b[39;00m \n",
      "\u001b[1;31mModuleNotFoundError\u001b[0m: No module named 'numpy'"
     ]
    }
   ],
   "source": [
    "#Bibilioteki\n",
    "import numpy as np\n",
    "import matplotlib.pyplot as plt\n",
    "import sympy as sym \n",
    "import math "
   ]
  },
  {
   "cell_type": "markdown",
   "id": "98d7b3ca-c6ee-45df-be46-edb2c86e8ae6",
   "metadata": {},
   "source": [
    "## Zadanie 1"
   ]
  },
  {
   "cell_type": "code",
   "execution_count": null,
   "id": "5a71d3d1-8cbb-4f45-b8a4-f5d93501bcdf",
   "metadata": {
    "slideshow": {
     "slide_type": ""
    },
    "tags": []
   },
   "outputs": [],
   "source": [
    "x = sym.Symbol('x')\n",
    "y = sym.Symbol('y')\n",
    "sym_f = 1/(x-2)\n",
    "sym_f_p1 = sym.diff(sym_f,x) #oblicznie pochodnej\n",
    "sym_f_p1"
   ]
  },
  {
   "cell_type": "code",
   "execution_count": null,
   "id": "8e78efa4-faab-4e17-9db8-de3d80221225",
   "metadata": {},
   "outputs": [],
   "source": [
    "sym_C = abs( x * sym_f_p1 / sym_f ) #wzór wskaźnika uwarunkowania\n",
    "sym_C = sym.simplify(sym_C)\n",
    "print(\"Wskażnik uwarunkowania C(x):\")\n",
    "sym_C"
   ]
  },
  {
   "cell_type": "code",
   "execution_count": null,
   "id": "69a876b9-3b10-4073-a2cb-bae87c6b517b",
   "metadata": {},
   "outputs": [],
   "source": [
    "C = sym.lambdify(x,sym_C)"
   ]
  },
  {
   "cell_type": "code",
   "execution_count": null,
   "id": "e8a9053f-be5b-4633-8764-ef702d03bcfe",
   "metadata": {},
   "outputs": [],
   "source": [
    "# Rysowanie wykresu funkcji w przedziale xA - xB\n",
    "\n",
    "[xA,xB]=[-10,10]  # Przedział rysowania wykresu funkcji\n",
    "n_pkt=101       # liczba punktów w xA- xB\n",
    "\n",
    "s = np.linspace(xA, xB, n_pkt)   # punkty podziału x\n",
    "#t = f(s)                         # wartości f(x)\n",
    "t = [C(e) for e in s]            # działa gdy funkcja f jest stała. \n",
    "\n",
    "plt.axhline(y=0, c='black')      #Wyświetla na czarno oś ox\n",
    "#Wybranie zakresu do narysowania w pionie i w poziomie\n",
    "#ax = plt.gca()\n",
    "#plt.set_xlim([xmin, xmax])\n",
    "#ax.set_ylim([-1, 100])\n",
    "\n",
    "plt.plot(s, t)\n",
    "plt.show()"
   ]
  },
  {
   "cell_type": "markdown",
   "id": "33745c56-4b3a-4e1d-9ba0-8d8e6fa4af32",
   "metadata": {},
   "source": [
    "Komentarz do wykresu funkcji f(x). Funkcja jest nieokreślona dla x=2, dlatego przy rysowaniu wykresu pojawia się błąd. "
   ]
  },
  {
   "cell_type": "code",
   "execution_count": null,
   "id": "5edffdb8-20b1-4b98-9197-06a9da57e486",
   "metadata": {},
   "outputs": [],
   "source": [
    "#Wczytanie danych\n",
    "xA = -3.5\n",
    "xB = 1.99\n",
    "D_x = 0.001"
   ]
  },
  {
   "cell_type": "code",
   "execution_count": null,
   "id": "37006908-7471-4ffb-aabd-a6e6b7feeaa8",
   "metadata": {},
   "outputs": [],
   "source": [
    "C(xA)"
   ]
  },
  {
   "cell_type": "code",
   "execution_count": null,
   "id": "04f541a0-ad49-4671-b98f-61d3ae878b82",
   "metadata": {},
   "outputs": [],
   "source": [
    "C(xB)"
   ]
  },
  {
   "cell_type": "code",
   "execution_count": null,
   "id": "ee9b3d28-5ab2-440c-81a2-079a5a7e2f07",
   "metadata": {},
   "outputs": [],
   "source": [
    "sym_d_x = D_x / abs(x) #Błąd bezwzględny wartości argumentu\n",
    "sym_d_x"
   ]
  },
  {
   "cell_type": "code",
   "execution_count": null,
   "id": "21f7660c-0178-4488-aaa3-43d72637b3a5",
   "metadata": {},
   "outputs": [],
   "source": [
    "sym_D_f = abs(sym_f_p1) * D_x\n",
    "sym_D_f = sym.simplify(sym_D_f)\n",
    "sym_D_f"
   ]
  },
  {
   "cell_type": "code",
   "execution_count": null,
   "id": "b18fa9b6-718a-4dd3-b109-e4f3f55bed8f",
   "metadata": {},
   "outputs": [],
   "source": [
    "sym_d_f = sym_C * sym_d_x\n",
    "sym_d_f = sym.simplify(sym_C*sym_d_x)\n",
    "sym_d_f"
   ]
  },
  {
   "cell_type": "code",
   "execution_count": null,
   "id": "64b973ba-b454-48f0-b1a8-5193c0d11aaf",
   "metadata": {},
   "outputs": [],
   "source": [
    "d_x = sym.lambdify(x, sym_d_x)\n",
    "D_f = sym.lambdify(x, sym_D_f)\n",
    "d_f = sym. lambdify(x,sym_d_f)"
   ]
  },
  {
   "cell_type": "code",
   "execution_count": null,
   "id": "bacd9904-f754-45b3-ad93-4bc72a9ce441",
   "metadata": {},
   "outputs": [],
   "source": [
    "d_x(xA)"
   ]
  },
  {
   "cell_type": "code",
   "execution_count": null,
   "id": "df90dd0a-68a3-41f3-9d71-2e7f27cec45b",
   "metadata": {},
   "outputs": [],
   "source": [
    "D_f(xA)"
   ]
  },
  {
   "cell_type": "code",
   "execution_count": null,
   "id": "f647a776-902b-4045-8922-26f741d9134e",
   "metadata": {},
   "outputs": [],
   "source": [
    "d_f(xA)"
   ]
  },
  {
   "cell_type": "code",
   "execution_count": null,
   "id": "854a98d0-2c9d-4da0-8f09-f8f5719dcb2b",
   "metadata": {},
   "outputs": [],
   "source": [
    "d_x(xB)"
   ]
  },
  {
   "cell_type": "code",
   "execution_count": null,
   "id": "304aa86c-1eb2-4f86-84b3-a451aa03fdc7",
   "metadata": {},
   "outputs": [],
   "source": [
    "D_f(xB)"
   ]
  },
  {
   "cell_type": "code",
   "execution_count": null,
   "id": "ead6739a-3404-4465-9dd7-d4b46e406676",
   "metadata": {},
   "outputs": [],
   "source": [
    "d_f(xB)"
   ]
  },
  {
   "cell_type": "markdown",
   "id": "7e0bc0d2-120b-44f3-96c8-ece8ce94aab7",
   "metadata": {},
   "source": [
    "Odp: Zadanie obliczania funkji $f$ jest dobrze uwarunkowane dla argumentu $x_A$ i źle uwarunkowane dla argumentu $x_B$"
   ]
  },
  {
   "cell_type": "code",
   "execution_count": null,
   "id": "664fefa5-5b03-488f-b7f9-896115dd65a2",
   "metadata": {},
   "outputs": [],
   "source": [
    "#Sprawdzenie\n",
    "d_f(xA) == C(xA) * d_x(xA)"
   ]
  },
  {
   "cell_type": "markdown",
   "id": "b7f6c83b-9368-43a0-b945-9b63e02ee89a",
   "metadata": {},
   "source": [
    "## Zadanie 2"
   ]
  },
  {
   "cell_type": "code",
   "execution_count": null,
   "id": "f249e1a3-605c-4be5-9952-1275cd458467",
   "metadata": {},
   "outputs": [],
   "source": [
    "def Szereg(eps):\n",
    "    i=1\n",
    "    n=1\n",
    "    wyraz= np.cos(n)**2 / (n**4+2)\n",
    "    suma=wyraz\n",
    "    print(n, \" wyraz= \", wyraz, \"   suma =\", suma) # testowe \n",
    "    while abs(wyraz) > eps:\n",
    "        n = n + 1\n",
    "        i = i + 1\n",
    "        wyraz = np.cos(n)**2 / (n**4+2) \n",
    "        suma=suma + wyraz\n",
    "        print(n, \" wyraz= \", wyraz, \"   suma =\", suma) # testowe \n",
    "        if i==100:\n",
    "            break  \n",
    "    print(\"Liczba wyrazow: \",i)\n",
    "    return suma    "
   ]
  },
  {
   "cell_type": "code",
   "execution_count": null,
   "id": "06cd1166-5063-4b5f-a677-587c42ef3be8",
   "metadata": {},
   "outputs": [],
   "source": [
    "Szereg(1e-5)"
   ]
  },
  {
   "cell_type": "markdown",
   "id": "8a008d21-b099-4a34-8d75-a6dfd3ac586e",
   "metadata": {},
   "source": [
    "## Zadanie 3"
   ]
  },
  {
   "cell_type": "code",
   "execution_count": null,
   "id": "769f1111-b567-4ca7-aaca-50ddc1471e63",
   "metadata": {},
   "outputs": [],
   "source": [
    "def Newton(f, f_p1, x0, eps):\n",
    "    i = 0\n",
    "    while abs(f(x0)) > eps:\n",
    "        i = i + 1\n",
    "        x0 = x0 - f(x0) / f_p1(x0)\n",
    "        print(\"krok \",i, \"nowy x \",x0)\n",
    "    return x0"
   ]
  },
  {
   "cell_type": "code",
   "execution_count": null,
   "id": "e52f934c-76ca-43cb-ac7d-8f44d9612414",
   "metadata": {},
   "outputs": [],
   "source": [
    "x = sym.symbols('x')\n",
    "sym_g = x**3 -10*x**2 + x+2 + sym.exp(-x)\n",
    "sym_g_p1 = sym.diff(sym_g,x)\n",
    "sym_g_p2 = sym.diff(sym_g_p1,x)\n",
    "sym_g_p1"
   ]
  },
  {
   "cell_type": "code",
   "execution_count": null,
   "id": "d4dc2676-f76b-456e-a958-24285369c015",
   "metadata": {},
   "outputs": [],
   "source": [
    "g = sym.lambdify(x,sym_g)\n",
    "g_p1 = sym.lambdify(x,sym_g_p1)\n",
    "g_p2 = sym.lambdify(x,sym_g_p2)"
   ]
  },
  {
   "cell_type": "code",
   "execution_count": null,
   "id": "ab0117c6-64d9-4e13-8ddc-9cbbccb23117",
   "metadata": {},
   "outputs": [],
   "source": [
    "# Rysowanie wykresu funkcji w przedziale xA - xB\n",
    "\n",
    "[xA,xB]=[-2,10]  # Przedział rysowania wykresu funkcji\n",
    "n_pkt=101       # liczba punktów w xA- xB\n",
    "\n",
    "s = np.linspace(xA, xB, n_pkt)   # punkty podziału x\n",
    "#t = f(s)                         # wartości f(x)\n",
    "t = [g(e) for e in s]            # działa gdy funkcja f jest stała. \n",
    "\n",
    "plt.axhline(y=0, c='black')      #Wyświetla na czarno oś ox\n",
    "\n",
    "plt.plot(s, t)\n",
    "plt.show()"
   ]
  },
  {
   "cell_type": "markdown",
   "id": "536f2467-dd56-418e-b802-8e0b4f626b82",
   "metadata": {},
   "source": [
    "Przedział izolacji"
   ]
  },
  {
   "cell_type": "markdown",
   "id": "7b2c4641-3007-4a21-bc68-cc0e22623a4d",
   "metadata": {
    "editable": true,
    "slideshow": {
     "slide_type": ""
    },
    "tags": []
   },
   "source": [
    "Przedział izolacji"
   ]
  },
  {
   "cell_type": "code",
   "execution_count": null,
   "id": "258d6bff-156b-496c-bcdb-d127f7fc9253",
   "metadata": {
    "editable": true,
    "slideshow": {
     "slide_type": ""
    },
    "tags": []
   },
   "outputs": [],
   "source": [
    "(a1, b1) = (9,12)"
   ]
  },
  {
   "cell_type": "code",
   "execution_count": null,
   "id": "03112a46-7ec0-47d6-b3dd-166274bffe81",
   "metadata": {},
   "outputs": [],
   "source": [
    "# Rysowanie wykresu funkcji w przedziale xA - xB\n",
    "\n",
    "[xA,xB]=[a1,b1]  # Przedział rysowania wykresu funkcji\n",
    "n_pkt=101       # liczba punktów w xA- xB\n",
    "\n",
    "s = np.linspace(xA, xB, n_pkt)   # punkty podziału x\n",
    "#t = f(s)                         # wartości f(x)\n",
    "t = [g(e) for e in s]            # działa gdy funkcja f jest stała. \n",
    "\n",
    "plt.axhline(y=0, c='black')      #Wyświetla na czarno oś ox\n",
    "\n",
    "plt.plot(s, t)\n",
    "plt.show()"
   ]
  },
  {
   "cell_type": "code",
   "execution_count": null,
   "id": "7bc7b5f7-c5c5-4025-bbfd-8a2477d6d804",
   "metadata": {},
   "outputs": [],
   "source": [
    "# Rysowanie wykresu funkcji w przedziale xA - xB\n",
    "\n",
    "[xA,xB]=[a1,b1]  # Przedział rysowania wykresu funkcji\n",
    "n_pkt=101       # liczba punktów w xA- xB\n",
    "\n",
    "s = np.linspace(xA, xB, n_pkt)   # punkty podziału x\n",
    "#t = f(s)                         # wartości f(x)\n",
    "t = [g_p1(e) for e in s]            # działa gdy funkcja f jest stała. \n",
    "\n",
    "plt.axhline(y=0, c='black')      #Wyświetla na czarno oś ox\n",
    "\n",
    "plt.plot(s, t)\n",
    "plt.show()"
   ]
  },
  {
   "cell_type": "code",
   "execution_count": null,
   "id": "9bd1dff2-c932-46dc-ab7c-ea2b0ebe1ca9",
   "metadata": {},
   "outputs": [],
   "source": [
    "# Rysowanie wykresu funkcji w przedziale xA - xB\n",
    "\n",
    "[xA,xB]=[a1,b1]  # Przedział rysowania wykresu funkcji\n",
    "n_pkt=101       # liczba punktów w xA- xB\n",
    "\n",
    "s = np.linspace(xA, xB, n_pkt)   # punkty podziału x\n",
    "#t = f(s)                         # wartości f(x)\n",
    "t = [g_p2(e) for e in s]            # działa gdy funkcja f jest stała. \n",
    "\n",
    "plt.axhline(y=0, c='black')      #Wyświetla na czarno oś ox\n",
    "\n",
    "plt.plot(s, t)\n",
    "plt.show()"
   ]
  },
  {
   "cell_type": "code",
   "execution_count": null,
   "id": "53643d57-caf6-404d-ab52-c9bd3c9b6d0d",
   "metadata": {},
   "outputs": [],
   "source": [
    "(g(a1)*g_p2(a1),g(b1)*g_p2(b1))"
   ]
  },
  {
   "cell_type": "code",
   "execution_count": null,
   "id": "5244ede2-37bb-4e92-8a99-31caee7ff018",
   "metadata": {},
   "outputs": [],
   "source": [
    "x2 = Newton(g,g_p1, b1, 1e-10)"
   ]
  },
  {
   "cell_type": "code",
   "execution_count": null,
   "id": "b318a84c-5995-4386-bcff-97923b1b3259",
   "metadata": {
    "editable": true,
    "slideshow": {
     "slide_type": ""
    },
    "tags": []
   },
   "outputs": [],
   "source": [
    "# Rysowanie wykresu funkcji w przedziale xA - xB\n",
    "\n",
    "[xA,xB]=[a1,b1]  # Przedział rysowania wykresu funkcji\n",
    "n_pkt=101       # liczba punktów w xA- xB\n",
    "\n",
    "s = np.linspace(xA, xB, n_pkt)   # punkty podziału x\n",
    "#t = f(s)                         # wartości f(x)\n",
    "t = [g(e) for e in s]            # działa gdy funkcja f jest stała. \n",
    "\n",
    "xRES = [x2]                     # lista x-ów punktów do wydrukowania\n",
    "yRES=[g(x2)]                    # lista y-ów punktów do wydrukowania\n",
    "\n",
    "#opcje rysunku\n",
    "fig = plt.figure()\n",
    "ax = fig.add_subplot(1, 1, 1)\n",
    "plt.axhline(y=0, c='black')      #Wyświetla na czarno oś ox\n",
    "\n",
    "# opcje rysowania punktów \n",
    "ax.scatter(xRES,yRES,c='blue')           # wartości funkcji w punkcie. końcowym - kolor niebieski\n",
    "\n",
    "plt.plot(s, t)\n",
    "plt.show()"
   ]
  }
 ],
 "metadata": {
  "kernelspec": {
   "display_name": "Python 3 (ipykernel)",
   "language": "python",
   "name": "python3"
  },
  "language_info": {
   "codemirror_mode": {
    "name": "ipython",
    "version": 3
   },
   "file_extension": ".py",
   "mimetype": "text/x-python",
   "name": "python",
   "nbconvert_exporter": "python",
   "pygments_lexer": "ipython3",
   "version": "3.9.13"
  }
 },
 "nbformat": 4,
 "nbformat_minor": 5
}
