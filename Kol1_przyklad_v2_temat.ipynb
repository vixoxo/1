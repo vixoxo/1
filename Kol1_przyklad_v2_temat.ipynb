{
 "cells": [
  {
   "cell_type": "code",
   "execution_count": null,
   "id": "8814ab24-b886-4937-bd54-e147fb8dd7fc",
   "metadata": {},
   "outputs": [],
   "source": [
    "#Bibilioteki\n",
    "import numpy as np\n",
    "import matplotlib.pyplot as plt\n",
    "import sympy as sym    \n",
    "import math "
   ]
  },
  {
   "cell_type": "markdown",
   "id": "a49ce1b9-b7fa-4ce0-8c4c-9afb81dac77e",
   "metadata": {
    "editable": true,
    "slideshow": {
     "slide_type": ""
    },
    "tags": []
   },
   "source": [
    "Nazwisko i imię: Kowalski Jan\n",
    "\n",
    "Numer indeksu: 999999"
   ]
  },
  {
   "cell_type": "markdown",
   "id": "9a69e258-f74e-43e2-a948-193031517286",
   "metadata": {
    "editable": false,
    "slideshow": {
     "slide_type": ""
    },
    "tags": []
   },
   "source": [
    "Proszę zmienić nazwę pliku wg wzoru: \"Pt_08_NrTematu_Nazwisko_nrIndeksu\", w przykładzie \"Pt_08_A_Kowalski_999999\""
   ]
  },
  {
   "cell_type": "markdown",
   "id": "33a40f08-2e24-4184-8c6e-d120a50611ce",
   "metadata": {
    "slideshow": {
     "slide_type": ""
    },
    "tags": []
   },
   "source": [
    "Uwaga poniżej zamieszczono przykładowe kolokwium z szablonem rozwiązania. Student rozwiązując zadania na kolokwium powinnien umieścić komentarze podsumowujące swoje rozwiązanie. Sprawdzający kolokwium  może dopytywać studenta odnośnie umieszczonego przez studenta rozwiązania w celu sprawdzenia na ile student rozumie umieszczone rozwiązanie i czy praca wykonana jest samodzielnie."
   ]
  },
  {
   "cell_type": "markdown",
   "id": "b73d9041-8248-442b-951b-3c09a631cabb",
   "metadata": {
    "editable": true,
    "slideshow": {
     "slide_type": ""
    },
    "tags": []
   },
   "source": [
    "# KOLOKWIUM 1 - TEMAT A "
   ]
  },
  {
   "cell_type": "markdown",
   "id": "02e12538-87dd-4f17-ba16-09ff1c06c16b",
   "metadata": {
    "editable": false,
    "slideshow": {
     "slide_type": ""
    },
    "tags": []
   },
   "source": [
    "## Zadanie 1 (5 punktów)\n",
    "\n",
    "Dla funkcji:\n",
    "\n",
    "$$f(x) = \\dfrac{1}{x-2}$$\n",
    "\n",
    "* wyznacz wskaźnik uwarunkowania zadania obliczania wartości tej funkcji (wzór oraz narysuj wykres tego wskaźnika w przedziale $[-10,10]$).\n",
    "* sprawdź wartość błędu względnego i bezwzględnego funkcji dla wartości argumentów: $x_A = -3.5$, $x_B = 1.99$.  \n",
    "przymij oszacowanie błędu bezwględnego argumentu jako: $ \\Delta x = 0.001 $\n",
    "* czy zadania obliczania wartości funkcji dla argumentów $x_A$, $x_B$ są dobrze uwarunkowane?\n",
    "\n",
    "Uwaga! Uprość wzór na wskaźnik uwarunkowania korzystsając z funkcji sym.simplify(...)"
   ]
  },
  {
   "cell_type": "code",
   "execution_count": null,
   "id": "4b2948e5-8c89-42a0-a9a5-dc6f035737ec",
   "metadata": {},
   "outputs": [],
   "source": [
    "#Bibilioteki\n",
    "import numpy as np\n",
    "import matplotlib.pyplot as plt\n",
    "import sympy as sym    \n",
    "import math "
   ]
  },
  {
   "cell_type": "code",
   "execution_count": null,
   "id": "2695cf63-cdf2-4246-b97f-e62796af77b0",
   "metadata": {},
   "outputs": [],
   "source": [
    "x = sym.Symbol('x')\n",
    "y = sym.Symbol('y')\n",
    "sym_f = 1/(x-2)\n",
    "sym_f_p1 = sym.diff(sym_f,x)\n",
    "sym_f_p1"
   ]
  },
  {
   "cell_type": "markdown",
   "id": "796b327d-8eec-4ae9-9946-82281df56b52",
   "metadata": {
    "editable": false,
    "slideshow": {
     "slide_type": ""
    },
    "tags": []
   },
   "source": [
    "## Zadanie 2 (4 punkty)\n",
    "\n",
    "Dany jest szereg:\n",
    "\n",
    "$$\\sum_{n=1}^{\\infty} \\dfrac{\\cos^2(n)}{n^4+2}$$\n",
    "\n",
    "* oblicz sumę tego szeregu. Przy czym skończ obliczenia gdy wartość bezwzględna wyrazu tego szeregu jest mniejsza niż  $\\varepsilon = 10^{-5}$. \n",
    "* wyświetl na ekranie $n$-ty wyraz oraz $n$-tą sumę częściową.\n",
    "* wyświetl sumę szeregu oraz liczbę przesumowanych wyrazów."
   ]
  },
  {
   "cell_type": "markdown",
   "id": "0dddbddd-4de8-4fb4-a1fb-341094bbc3ef",
   "metadata": {
    "editable": false,
    "slideshow": {
     "slide_type": ""
    },
    "tags": []
   },
   "source": [
    "## Zadanie 3 (7 punktów)\n",
    "\n",
    "\n",
    "Dla funkcji: \n",
    "\n",
    "$$g(x) = -x^4 + 2  x^3 - 4 + e^{-x}$$\n",
    "\n",
    "znajdź z dokladnością $\\varepsilon = 10^{-10}$ __drugie dodatnie__ miejsce zerowe tej funkcji korzystając z metody __Newtona__. <br>\n",
    "Rozwiązując zadanie sprawdź, czy spełnione są warunki zbieżności używanej metody!!!"
   ]
  }
 ],
 "metadata": {
  "kernelspec": {
   "display_name": "Python 3 (ipykernel)",
   "language": "python",
   "name": "python3"
  },
  "language_info": {
   "codemirror_mode": {
    "name": "ipython",
    "version": 3
   },
   "file_extension": ".py",
   "mimetype": "text/x-python",
   "name": "python",
   "nbconvert_exporter": "python",
   "pygments_lexer": "ipython3",
   "version": "3.9.13"
  }
 },
 "nbformat": 4,
 "nbformat_minor": 5
}
