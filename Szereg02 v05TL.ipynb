{
 "cells": [
  {
   "cell_type": "code",
   "execution_count": 1,
   "id": "d9b067f8-841c-4326-bccc-587648d0398d",
   "metadata": {},
   "outputs": [],
   "source": [
    "# potrzebne biblioteki\n",
    "import numpy as np\n",
    "import matplotlib.pyplot as plt"
   ]
  },
  {
   "cell_type": "markdown",
   "id": "1a4f3a31-9a2d-4b76-868d-ba5b1eceeeac",
   "metadata": {},
   "source": [
    "### Obliczanie wartości szergu naprzemiennego\n",
    "\n",
    "##### $S(n) = \\sum_{n = 2}^{\\infty} (-1)^{n} \\dfrac{2}{\\sqrt{n} \\  (\\,ln(n) \\,)^2 } = a_2 + a_3+ a_4 + .... $  \n",
    "gdzie:\n",
    "> $a_2=\\dfrac{2}{\\sqrt{2} \\  (\\,ln(2) \\,)^2 }$  \n",
    "> $ a_{n} = (-1)^{n} \\dfrac{2}{\\sqrt{n} \\  (\\,ln(n)\\,)^2}  $ &nbsp; &nbsp; dla &nbsp; &nbsp; $ n = 3, 4, ....$    \n",
    "\n",
    "algorytm:\n",
    "> $ suma = \\dfrac{2}{\\sqrt{2} \\  (\\,ln(2) \\,)^2 } $  \n",
    "> $ n = 3 $  \n",
    ">  dopóki: &nbsp; $ | wyraz | > eps$ &nbsp; powtarzaj :\n",
    ">> $ wyraz = (-1)^{n} \\dfrac{2}{\\sqrt{n} \\  (\\,ln(n)\\,)^2} $  \n",
    ">> $ suma = suma + wyraz $  \n",
    ">> $ n = n+1 $  \n",
    "\n",
    "<mark> __Uwaga:__  \n",
    "z reguły lepszym rozwiązaniem jest danie warunku:  </mark> &nbsp; &nbsp; &nbsp; $ | \\dfrac{wyraz}{suma}| > eps$  \n",
    "\n",
    "- w pierwszym przypadku _dodajemy_ __odpowiednio__ duże wyrazy\n",
    "- w drugim przypadku _dodajemy_  tylko te wyrazy które __coś__ znaczą w stosunku do już policzonej __sumy__\n"
   ]
  },
  {
   "cell_type": "code",
   "execution_count": 38,
   "id": "7b37db4e-057e-4b0f-82f9-392127faef47",
   "metadata": {},
   "outputs": [],
   "source": [
    "# definicja danego szeregu  UWAGA - wooolno zbieżny\n",
    "def Szereg2(eps):\n",
    "    n=2\n",
    "    wyraz=2/(np.sqrt(2) * (np.log(2))**2)\n",
    "    suma=wyraz\n",
    "    while abs(wyraz) > eps:\n",
    "        n+=1\n",
    "        if n==100:\n",
    "            print(\"STOP bo bezpiecznik\")\n",
    "            break   # bezpiecznik na błedny kod - wykona się tylko 100 \"pętli\"\n",
    "        wyraz=(-1)**n /(np.sqrt(n)*(np.log(n))**2)  #\n",
    "        suma=suma + wyraz\n",
    "        # print(n, \" wyraz= \", wyraz, \"   suma =\", suma) # testowe \n",
    "    print(n)\n",
    "    return suma    \n",
    "\n",
    "fn= lambda n: (-1)**n /(np.sqrt(n)*(np.log(n))**2) \n",
    "\n",
    "# ogólna definicja liczenia sumy szeregu dla funkcji(n) ale dla n=2,3.......\n",
    "def Szereg(fun,eps):\n",
    "    # oblicza sume szeregu funkcji fun(n) dla n=2,3......\n",
    "    n=2\n",
    "    wyraz=fun(2)\n",
    "    suma=wyraz\n",
    "    while abs(wyraz) > eps:\n",
    "        n+=1\n",
    "        if n==100:\n",
    "            print(\"STOP bo bezpiecznik\")\n",
    "            break   # bezpiecznik na błedny kod - wykona się tylko 100 \"pętli\"\n",
    "        wyraz=fun(n) #\n",
    "        suma=suma + wyraz\n",
    "        # print(n, \" wyraz= \", wyraz, \"   suma =\", suma) # testowe \n",
    "    print(n)\n",
    "    return suma    "
   ]
  },
  {
   "cell_type": "code",
   "execution_count": 41,
   "id": "e0e21863-da18-4766-a0c5-1f0382723ab5",
   "metadata": {},
   "outputs": [
    {
     "name": "stdout",
     "output_type": "stream",
     "text": [
      "370050\n",
      "370050\n",
      "2.6245835506726163\n",
      "1.1528334300522893\n"
     ]
    }
   ],
   "source": [
    "suma1 = Szereg2(1e-5)\n",
    "suma = Szereg(fn,1e-5)  # to działa szybciej \n",
    "print(suma1)\n",
    "print(suma)"
   ]
  },
  {
   "cell_type": "code",
   "execution_count": null,
   "id": "2901f588-7735-42c3-8f16-05bc1bca2d6a",
   "metadata": {},
   "outputs": [],
   "source": []
  }
 ],
 "metadata": {
  "kernelspec": {
   "display_name": "Python 3 (ipykernel)",
   "language": "python",
   "name": "python3"
  },
  "language_info": {
   "codemirror_mode": {
    "name": "ipython",
    "version": 3
   },
   "file_extension": ".py",
   "mimetype": "text/x-python",
   "name": "python",
   "nbconvert_exporter": "python",
   "pygments_lexer": "ipython3",
   "version": "3.9.13"
  }
 },
 "nbformat": 4,
 "nbformat_minor": 5
}
