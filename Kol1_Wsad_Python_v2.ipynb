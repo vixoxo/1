{
 "cells": [
  {
   "cell_type": "markdown",
   "id": "0a98ba5f-76db-4fb9-b163-0a377cf65746",
   "metadata": {},
   "source": [
    "# Bibilioteki"
   ]
  },
  {
   "cell_type": "code",
   "execution_count": 1,
   "id": "3dfcd223-ea8f-42c9-8cf2-d2d74f0fed76",
   "metadata": {},
   "outputs": [
    {
     "ename": "ModuleNotFoundError",
     "evalue": "No module named 'numpy'",
     "output_type": "error",
     "traceback": [
      "\u001b[1;31m---------------------------------------------------------------------------\u001b[0m",
      "\u001b[1;31mModuleNotFoundError\u001b[0m                       Traceback (most recent call last)",
      "Cell \u001b[1;32mIn[1], line 2\u001b[0m\n\u001b[0;32m      1\u001b[0m \u001b[38;5;66;03m#Bibilioteki\u001b[39;00m\n\u001b[1;32m----> 2\u001b[0m \u001b[38;5;28;01mimport\u001b[39;00m \u001b[38;5;21;01mnumpy\u001b[39;00m \u001b[38;5;28;01mas\u001b[39;00m \u001b[38;5;21;01mnp\u001b[39;00m\n\u001b[0;32m      3\u001b[0m \u001b[38;5;28;01mimport\u001b[39;00m \u001b[38;5;21;01mmatplotlib\u001b[39;00m\u001b[38;5;21;01m.\u001b[39;00m\u001b[38;5;21;01mpyplot\u001b[39;00m \u001b[38;5;28;01mas\u001b[39;00m \u001b[38;5;21;01mplt\u001b[39;00m\n\u001b[0;32m      4\u001b[0m \u001b[38;5;28;01mimport\u001b[39;00m \u001b[38;5;21;01msympy\u001b[39;00m \u001b[38;5;28;01mas\u001b[39;00m \u001b[38;5;21;01msym\u001b[39;00m \n",
      "\u001b[1;31mModuleNotFoundError\u001b[0m: No module named 'numpy'"
     ]
    }
   ],
   "source": [
    "#Bibilioteki\n",
    "import numpy as np\n",
    "import matplotlib.pyplot as plt\n",
    "import sympy as sym \n",
    "import math"
   ]
  },
  {
   "cell_type": "markdown",
   "id": "2011dfb4-f1bc-4552-bc2e-1df4d9796066",
   "metadata": {},
   "source": [
    "# Poszukiwanie miejsc zerowych"
   ]
  },
  {
   "cell_type": "markdown",
   "id": "7a8e1a18-01e7-4910-9f03-c6387ede444a",
   "metadata": {},
   "source": [
    "Uwaga wszystkie nazwy funkcji zostały zastąpione słowem \"NAZWA\". Odpowiednio nazwij funkcję, której chcesz użyć, np. jeżeli funkcja realizuje algorytm Newtona znajdowania miejsca zerowego to zamień słowo \"NAZWA\" na \"Newton\".\n",
    "\n",
    "Użyj jednej z nazw:\n",
    "* \"Sieczne\"\n",
    "* \"Newton\"\n",
    "* \"Bisekcja\""
   ]
  },
  {
   "cell_type": "code",
   "execution_count": 2,
   "id": "cb60115b-1c05-49e4-8e8c-f9b47b43f1ba",
   "metadata": {},
   "outputs": [],
   "source": [
    "# różne funkcje znajdujące pierwiastek \n",
    "def NAZWA(f, f_p1, x0, eps):\n",
    "    i = 0\n",
    "    while abs(f(x0)) > eps:\n",
    "        i = i + 1\n",
    "        x0 = x0 - f(x0) / f_p1(x0)\n",
    "        #print(\"krok \",i, \"nowy x \",x0)\n",
    "    return x0\n",
    "\n",
    "def NAZWA(f, a, b, eps):\n",
    "    while (b - a) >= eps:\n",
    "        t = (a+b) / 2\n",
    "        if f(a)*f(t) < 0:\n",
    "            b = t\n",
    "        elif f(a)*f(t) > 0:\n",
    "            a = t\n",
    "        else:\n",
    "            a,b = t,t\n",
    "        #print(\"a =\",a,\"b=\",b, \"dx ->\",(b-a))    # wydruk kontrolny działana funkcji\n",
    "    return (b+a)/2\n",
    "\n",
    "def NAZWA(f, x1, x0, eps):\n",
    "    i=0\n",
    "    while abs(f(x1)) > tol:\n",
    "        i = i + 1\n",
    "        xNowy = x1 - f(x1) * (x1-x0) / (f(x1)-f(x0))\n",
    "        x0 = x1\n",
    "        x1 = xNowy\n",
    "        #print(\"krok \",i, \"nowy x \",x1)   # wydruk kontrolny\n",
    "    return x1"
   ]
  },
  {
   "cell_type": "markdown",
   "id": "a1f9d026-9485-41e9-920e-fb52ee548152",
   "metadata": {},
   "source": [
    "# Definiowanie funkcji jednej zmiennej"
   ]
  },
  {
   "cell_type": "markdown",
   "id": "604f79de-5e8a-42a0-84f8-1720ceb06506",
   "metadata": {},
   "source": [
    "## Funkcja numeryczna"
   ]
  },
  {
   "cell_type": "code",
   "execution_count": 3,
   "id": "7fe3cbf7-8caf-47f5-981c-29011789b286",
   "metadata": {},
   "outputs": [],
   "source": [
    "f = lambda x: x**2 + np.sin(x)"
   ]
  },
  {
   "cell_type": "markdown",
   "id": "17f93fd5-d4ec-4425-8298-2bf96ef9ea40",
   "metadata": {},
   "source": [
    "## Funkcja symboliczna"
   ]
  },
  {
   "cell_type": "code",
   "execution_count": 4,
   "id": "73b0d59f-5366-48f7-89f2-a338e4af80b6",
   "metadata": {},
   "outputs": [
    {
     "data": {
      "text/latex": [
       "$\\displaystyle x^{2} - \\sin{\\left(x \\right)}$"
      ],
      "text/plain": [
       "x**2 - sin(x)"
      ]
     },
     "execution_count": 4,
     "metadata": {},
     "output_type": "execute_result"
    }
   ],
   "source": [
    "x = sym.Symbol('x')\n",
    "sym_g = x**2 - sym.sin(x)  #żeby w obliczeniach symbolicznych użyć funkcji sin trzeba ją wziąć z biblioteki sym, a nie math lub np.\n",
    "sym_g"
   ]
  },
  {
   "cell_type": "markdown",
   "id": "ec3d3c3f-0c62-446a-bed6-7d3cef2d1f6b",
   "metadata": {},
   "source": [
    "### Obliczenie pochodnych funkcji symbolicznej"
   ]
  },
  {
   "cell_type": "code",
   "execution_count": 5,
   "id": "83d80d02-e66a-4011-911f-3de692a2c807",
   "metadata": {},
   "outputs": [
    {
     "data": {
      "text/latex": [
       "$\\displaystyle 2 x - \\cos{\\left(x \\right)}$"
      ],
      "text/plain": [
       "2*x - cos(x)"
      ]
     },
     "execution_count": 5,
     "metadata": {},
     "output_type": "execute_result"
    }
   ],
   "source": [
    "# Obliczenie piewrszej pochodnej po x\n",
    "sym_g_p1 = sym.diff(sym_g, x)\n",
    "sym_g_p1"
   ]
  },
  {
   "cell_type": "code",
   "execution_count": 6,
   "id": "1c32bd20-f085-40e4-8374-429e0bc6b766",
   "metadata": {},
   "outputs": [
    {
     "data": {
      "text/latex": [
       "$\\displaystyle \\sin{\\left(x \\right)} + 2$"
      ],
      "text/plain": [
       "sin(x) + 2"
      ]
     },
     "execution_count": 6,
     "metadata": {},
     "output_type": "execute_result"
    }
   ],
   "source": [
    "# Obliczenie drugiej pochodnej po x\n",
    "sym_g_p2 = sym.diff(sym_g_p1, x)\n",
    "sym_g_p2"
   ]
  },
  {
   "cell_type": "markdown",
   "id": "24bc179a-5e83-44d7-ace9-26e1112238d1",
   "metadata": {},
   "source": [
    "### Przejście z funkcji symboliczej na funkcję numeryczną"
   ]
  },
  {
   "cell_type": "code",
   "execution_count": 7,
   "id": "db554138-a122-4629-a2c1-e4a7aca8e257",
   "metadata": {},
   "outputs": [],
   "source": [
    "g = sym.lambdify(x,sym_g)"
   ]
  },
  {
   "cell_type": "markdown",
   "id": "0d5369ef-abc6-4d32-b70c-f9c72dfb16ab",
   "metadata": {},
   "source": [
    "# Definiowanie funkcji dwóch zmiennych"
   ]
  },
  {
   "cell_type": "markdown",
   "id": "3c8b6e65-e01d-42fd-8bb4-ffbafb8ceb1d",
   "metadata": {},
   "source": [
    "## Funkcja numeryczna"
   ]
  },
  {
   "cell_type": "code",
   "execution_count": 8,
   "id": "f53c15ef-435e-4000-85f0-9516d4081615",
   "metadata": {},
   "outputs": [],
   "source": [
    "f = lambda x, y : (x**2 + y) / (x**2 + 1)"
   ]
  },
  {
   "cell_type": "markdown",
   "id": "c1dc0678-3e1c-4ec3-ba01-1b99855825ad",
   "metadata": {},
   "source": [
    "## Funkcja symboliczna"
   ]
  },
  {
   "cell_type": "code",
   "execution_count": 9,
   "id": "d63e20ed-5c00-452b-95c9-85ac335040eb",
   "metadata": {},
   "outputs": [
    {
     "data": {
      "text/latex": [
       "$\\displaystyle \\frac{x^{2} + y}{x^{2} + 1}$"
      ],
      "text/plain": [
       "(x**2 + y)/(x**2 + 1)"
      ]
     },
     "execution_count": 9,
     "metadata": {},
     "output_type": "execute_result"
    }
   ],
   "source": [
    "x = sym.Symbol('x')\n",
    "y = sym.Symbol('y')\n",
    "sym_g = (x**2 + y) / (x**2 + 1)  #żeby w obliczeniach symbolicznych użyć funkcji sin trzeba ją wziąć z biblioteki sym, a nie math lub np.\n",
    "sym_g"
   ]
  },
  {
   "cell_type": "markdown",
   "id": "87c20b9c-cf8a-489b-acc4-05a8929ebc6b",
   "metadata": {},
   "source": [
    "### Obliczenie pochodnych funkcji symbolicznej"
   ]
  },
  {
   "cell_type": "code",
   "execution_count": 10,
   "id": "ce0a1766-1dd1-43cf-ad13-672718ea1d47",
   "metadata": {},
   "outputs": [
    {
     "data": {
      "text/latex": [
       "$\\displaystyle \\frac{2 x}{x^{2} + 1} - \\frac{2 x \\left(x^{2} + y\\right)}{\\left(x^{2} + 1\\right)^{2}}$"
      ],
      "text/plain": [
       "2*x/(x**2 + 1) - 2*x*(x**2 + y)/(x**2 + 1)**2"
      ]
     },
     "execution_count": 10,
     "metadata": {},
     "output_type": "execute_result"
    }
   ],
   "source": [
    "# Obliczenie piewrszej pochodnej po x\n",
    "sym_g_p1_x = sym.diff(sym_g, x)\n",
    "sym_g_p1_x"
   ]
  },
  {
   "cell_type": "code",
   "execution_count": 11,
   "id": "d6032183-f634-49b3-9e2b-20f15797b6c1",
   "metadata": {},
   "outputs": [
    {
     "data": {
      "text/latex": [
       "$\\displaystyle - \\frac{8 x^{2}}{\\left(x^{2} + 1\\right)^{2}} + \\frac{8 x^{2} \\left(x^{2} + y\\right)}{\\left(x^{2} + 1\\right)^{3}} + \\frac{2}{x^{2} + 1} - \\frac{2 \\left(x^{2} + y\\right)}{\\left(x^{2} + 1\\right)^{2}}$"
      ],
      "text/plain": [
       "-8*x**2/(x**2 + 1)**2 + 8*x**2*(x**2 + y)/(x**2 + 1)**3 + 2/(x**2 + 1) - 2*(x**2 + y)/(x**2 + 1)**2"
      ]
     },
     "execution_count": 11,
     "metadata": {},
     "output_type": "execute_result"
    }
   ],
   "source": [
    "# Obliczenie drugiej pochodnej po x\n",
    "sym_g_p2_x = sym.diff(sym_g_p1_x, x)\n",
    "sym_g_p2_x"
   ]
  },
  {
   "cell_type": "markdown",
   "id": "568fe14f-c040-4582-88ca-92265b5191d1",
   "metadata": {},
   "source": [
    "#### Uproszczenie wzoru"
   ]
  },
  {
   "cell_type": "code",
   "execution_count": 12,
   "id": "601c8f89-186b-4f13-9213-ff04d4d9bc1f",
   "metadata": {},
   "outputs": [
    {
     "data": {
      "text/latex": [
       "$\\displaystyle \\frac{2 \\cdot \\left(3 x^{2} y - 3 x^{2} - y + 1\\right)}{x^{6} + 3 x^{4} + 3 x^{2} + 1}$"
      ],
      "text/plain": [
       "2*(3*x**2*y - 3*x**2 - y + 1)/(x**6 + 3*x**4 + 3*x**2 + 1)"
      ]
     },
     "execution_count": 12,
     "metadata": {},
     "output_type": "execute_result"
    }
   ],
   "source": [
    "sym.simplify(sym_g_p2_x)"
   ]
  },
  {
   "cell_type": "markdown",
   "id": "e4b0894c-1855-4f37-b51e-8783ccb3cf2a",
   "metadata": {},
   "source": [
    "### Przejście z funkcji symboliczej na funkcję numeryczną"
   ]
  },
  {
   "cell_type": "code",
   "execution_count": 13,
   "id": "19bd9c8f-a6b1-4775-9101-b746b738156b",
   "metadata": {},
   "outputs": [],
   "source": [
    "g = sym.lambdify([x,y], sym_g)"
   ]
  },
  {
   "cell_type": "markdown",
   "id": "965daab2-0981-46cf-880b-f34ab23c369c",
   "metadata": {},
   "source": [
    "# Sumowanie szeregu\n",
    "\n",
    "Przykładowy kod na sumę szeregu. Trzeba dostosować do swoich potrzeb!"
   ]
  },
  {
   "cell_type": "code",
   "execution_count": null,
   "id": "8b3ee5e8-3d93-42c7-a2b7-baeb31229834",
   "metadata": {},
   "outputs": [],
   "source": [
    "def Szereg(eps):\n",
    "    i=1\n",
    "    n=2\n",
    "    wyraz= 2/(np.sqrt(2) * (np.log(2))**2)\n",
    "    suma=wyraz\n",
    "    #print(n, \" wyraz= \", wyraz, \"   suma =\", suma) # testowe \n",
    "    while abs(wyraz) > eps:\n",
    "        n = n + 1\n",
    "        i = i + 1\n",
    "        wyraz = (-1)**n /(np.sqrt(n)*(np.log(n))**2)  \n",
    "        suma=suma + wyraz\n",
    "        #print(n, \" wyraz= \", wyraz, \"   suma =\", suma) # testowe \n",
    "        if i==100:\n",
    "            break  \n",
    "    #print(\"Liczba wyrazow: \",i)\n",
    "    return suma      "
   ]
  },
  {
   "cell_type": "markdown",
   "id": "2cb7128d-c4a6-4516-8632-01b5fa882920",
   "metadata": {},
   "source": [
    "# Rysowanie wykresu funkcji jednej zmiennej"
   ]
  },
  {
   "cell_type": "code",
   "execution_count": 14,
   "id": "e5ffa885-0007-4548-8a1c-d838c3f6390e",
   "metadata": {},
   "outputs": [],
   "source": [
    "f = lambda x: 2+x**2"
   ]
  },
  {
   "cell_type": "markdown",
   "id": "6ce2b414-dbba-4bda-a018-cd3157f41011",
   "metadata": {},
   "source": [
    "## Wydrukowanie funkcji f w danym przedziale"
   ]
  },
  {
   "cell_type": "code",
   "execution_count": 15,
   "id": "bdcebd7f-c5db-49b6-92f8-94bbfd13b1b7",
   "metadata": {},
   "outputs": [
    {
     "data": {
      "image/png": "[encoded data removed]",
      "text/plain": [
       "<Figure size 640x480 with 1 Axes>"
      ]
     },
     "metadata": {},
     "output_type": "display_data"
    }
   ],
   "source": [
    "# Rysowanie wykresu funkcji w przedziale xA - xB\n",
    "\n",
    "[xA,xB]=[-1,1]  # Przedział rysowania wykresu funkcji\n",
    "n_pkt=101       # liczba punktów w xA- xB\n",
    "\n",
    "s = np.linspace(xA, xB, n_pkt)   # punkty podziału x\n",
    "#t = f(s)                         # wartości f(x)\n",
    "t = [f(e) for e in s]            # działa gdy funkcja f jest stała. \n",
    "#Wybranie zakresu do narysowania w pionie i w poziomie\n",
    "#ax = plt.gca()\n",
    "#plt.set_xlim([xmin, xmax])\n",
    "#ax.set_ylim([-1, 100])\n",
    "\n",
    "plt.axhline(y=0, c='black')      #Wyświetla na czarno oś ox\n",
    "\n",
    "plt.plot(s, t)\n",
    "plt.show()"
   ]
  },
  {
   "cell_type": "markdown",
   "id": "0024984f-8a6b-4826-968e-9eeb0a68db48",
   "metadata": {},
   "source": [
    "## Wydrukowanie funkcji f w danym przedziale + wydrukowanie punktów na tym wykresie"
   ]
  },
  {
   "cell_type": "code",
   "execution_count": 16,
   "id": "ce1cd0c4-6d40-4b85-ab6e-02712c5121f9",
   "metadata": {},
   "outputs": [
    {
     "data": {
      "image/png": "[encoded data removed]",
      "text/plain": [
       "<Figure size 640x480 with 1 Axes>"
      ]
     },
     "metadata": {},
     "output_type": "display_data"
    }
   ],
   "source": [
    "# Rysowanie wykresu funkcji w przedziale xA - xB\n",
    "\n",
    "[xA,xB]=[-1,1]  # Przedział rysowania wykresu funkcji\n",
    "n_pkt=101       # liczba punktów w xA- xB\n",
    "\n",
    "s = np.linspace(xA, xB, n_pkt)   # punkty podziału x\n",
    "#t = f(s)                         # wartości f(x)\n",
    "t = [f(e) for e in s]            # działa gdy funkcja f jest stała. \n",
    "\n",
    "xRES = [-1,-0.5,0.75]                     # lista x-ów punktów do wydrukowania\n",
    "yRES=[f(-1), f(-0.5), f(0.75)]                    # lista y-ów punktów do wydrukowania\n",
    "\n",
    "#opcje rysunku\n",
    "fig = plt.figure()\n",
    "ax = fig.add_subplot(1, 1, 1)\n",
    "plt.axhline(y=0, c='black')      #Wyświetla na czarno oś ox\n",
    "\n",
    "# opcje rysowania punktów \n",
    "ax.scatter(xRES,yRES,c='blue')           # wartości funkcji w punkcie. końcowym - kolor niebieski\n",
    "\n",
    "plt.plot(s, t)\n",
    "plt.show()"
   ]
  },
  {
   "cell_type": "code",
   "execution_count": 17,
   "id": "0c7fb64a-6353-4c4b-b4cb-ad6f7d031e5c",
   "metadata": {},
   "outputs": [],
   "source": [
    "def Szereg(eps):\n",
    "    i=1\n",
    "    n=2\n",
    "    wyraz= 2/(np.sqrt(2) * (np.log(2))**2)\n",
    "    suma=wyraz\n",
    "    #print(n, \" wyraz= \", wyraz, \"   suma =\", suma) # testowe \n",
    "    while abs(wyraz) > eps:\n",
    "        n = n + 1\n",
    "        i = i + 1\n",
    "        wyraz = (-1)**n /(np.sqrt(n)*(np.log(n))**2)  \n",
    "        suma=suma + wyraz\n",
    "        #print(n, \" wyraz= \", wyraz, \"   suma =\", suma) # testowe \n",
    "        if i==100:\n",
    "            break  \n",
    "    #print(\"Liczba wyrazow: \",i)\n",
    "    return suma      "
   ]
  }
 ],
 "metadata": {
  "kernelspec": {
   "display_name": "Python 3 (ipykernel)",
   "language": "python",
   "name": "python3"
  },
  "language_info": {
   "codemirror_mode": {
    "name": "ipython",
    "version": 3
   },
   "file_extension": ".py",
   "mimetype": "text/x-python",
   "name": "python",
   "nbconvert_exporter": "python",
   "pygments_lexer": "ipython3",
   "version": "3.9.13"
  }
 },
 "nbformat": 4,
 "nbformat_minor": 5
}
