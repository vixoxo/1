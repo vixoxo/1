{
 "cells": [
  {
   "cell_type": "code",
   "execution_count": null,
   "id": "d91ad494-2c62-4550-b35b-e40b7f4a363b",
   "metadata": {},
   "outputs": [],
   "source": [
    "# potrzebne biblioteki\n",
    "import numpy as np\n",
    "import matplotlib.pyplot as plt\n",
    "import sympy as sym    "
   ]
  },
  {
   "cell_type": "markdown",
   "id": "023173e8-662f-4242-a790-2ffc3b306034",
   "metadata": {},
   "source": [
    "# METODA NEWTONA (stycznych)\n",
    "### ZNAJDOWANIE PIERWIASTKÓW FUNKCJI\n",
    "\n",
    "#### Algorytm metody Newtona\n",
    "dla danej funkcj ___f($ x $)___    \n",
    "i wybranych &nbsp; $ x_a $ &nbsp; &nbsp; $ x_b $ &nbsp; oraz $ x_0 $ &nbsp; takich że:\n",
    "> <mark>__f<sup>'</sup>( $x$ )__  i __f<sup>''</sup>( $x$ )__ nie zmieniają znaku w przedziale __[ $ x_a,  x_b $ ]__ </mark>\n",
    ">\n",
    "> __f ( $ x_a $ ) * f( $ x_b $ ) < 0__\n",
    ">\n",
    ">  <mark>__f( $x_0$ )__  * __f<sup>''</sup>( $x_0$ ) > 0__ </mark>\n",
    "> \n",
    "\n",
    "\n",
    "wykonaj  \n",
    "> dane: f,  x<sub>a</sub>, x<sub>b</sub>,  eps  \n",
    "> wybierz $ x_0 \\in $ __( $ x_a,  x_b $ )__  \n",
    ">powtarzaj dla k = 0, 1, 2, ....  \n",
    ">> dopóki: $| f(x_{k})| > eps $  \n",
    ">>$ x_{k+1}=x_k-\\dfrac{f(x_k)}{f'(x_k)} $\n",
    ">>\n",
    "\n"
   ]
  },
  {
   "cell_type": "markdown",
   "id": "f543e279-79b1-4662-b76a-c5b067f61be4",
   "metadata": {},
   "source": [
    "___\n",
    "##### znajdź pierwiastki :  &nbsp; &nbsp; &nbsp; f(x)=  x<sup>2</sup>- 2.  \n",
    "_znamy pierwiastki tego równania_\n",
    "- dla róznych wartości warunku stopu oblicz bład bezwględny i względny względem rozwiązania \"ścisłego\""
   ]
  },
  {
   "cell_type": "code",
   "execution_count": null,
   "id": "958b784c-ca8b-472b-a90a-f0b28e6dfcfb",
   "metadata": {},
   "outputs": [],
   "source": [
    "# definicja funkcji dla zmiennej x_\n",
    "f = lambda x_: x_**2 - 2    # znamy pierwiastki tego równania\n",
    "f_p1= lambda x_ : 2 * x_    # pochodna \n",
    "f_p2= lambda x_ : 2         # 2 pochodna "
   ]
  },
  {
   "cell_type": "code",
   "execution_count": null,
   "id": "ff97999d-7176-46ec-bcb8-12d7441f3cd8",
   "metadata": {},
   "outputs": [],
   "source": [
    "#  obliczenia testowe dla dowolnego punktu\n",
    "xa=2\n",
    "# \"ręczne\" policzenie nowego X\n",
    "nowy_X = xa - f(xa)/f_p1(xa)\n",
    "print(\"x=\",nowy_X, \"   f(\",nowy_X,\") =\",f(nowy_X))"
   ]
  },
  {
   "cell_type": "code",
   "execution_count": null,
   "id": "5e506979-a999-4e43-a76e-f342e74e4902",
   "metadata": {},
   "outputs": [],
   "source": [
    "# wykonanie ręczne -   symulacja procedury\n",
    "# czy można go wykonać się  np. 15 razy\n",
    "xa=nowy_X\n",
    "nowy_X = xa - f(xa)/f_p1(xa)\n",
    "print(\"sqrt(2) =\", np.sqrt(2))\n",
    "print(\"      x =\",nowy_X, \"   f(\",nowy_X,\") =\",f(nowy_X))"
   ]
  },
  {
   "cell_type": "code",
   "execution_count": null,
   "id": "e9f411d7-4787-4f28-ba59-567a35ce6319",
   "metadata": {},
   "outputs": [],
   "source": [
    "# różne funkcje znajdujące pierwiastek metodą siecznych\n",
    "\n",
    "def my_Newton_rek(f, f_p1, x0, tol):\n",
    "    # wynik: wartość x dla ktorej f(x) = 0 z przybliżeniem eps\n",
    "    # metoda Newtona  dla funkcji f i jej pochodnej f_p1\n",
    "    # rekurencyjna\n",
    "    if abs(f(x0)) > tol:\n",
    "        return my_Newton_rek(f,f_p1, x0 - f(x0)/f_p1(x0), tol)\n",
    "    else:\n",
    "        return x0\n",
    "\n",
    "def my_Newton(f, f_p1, x0, tol):\n",
    "    # wynik: wartość x dla ktorej f(x) = 0 z przybliżeniem eps\n",
    "    # metoda Polowienia\n",
    "    # iteracyjna\n",
    "    i=0\n",
    "    while abs(f(x0)) > tol:\n",
    "        i+=1\n",
    "        x0=x0-f(x0)/f_p1(x0)\n",
    "        print(\"krok \",i, \"nowy x \",x0)\n",
    "    return x0"
   ]
  },
  {
   "cell_type": "code",
   "execution_count": null,
   "id": "c84d45a4-e991-4c87-a8c5-e96daf487cb8",
   "metadata": {},
   "outputs": [],
   "source": [
    "# Zalezienie \"jakiegoś\" pierwiastka \n",
    "x0 =0.4\n",
    "eps = 1e-5\n",
    "x00_r =my_Newton_rek(f,f_p1,x0,eps)\n",
    "x00_r"
   ]
  },
  {
   "cell_type": "code",
   "execution_count": null,
   "id": "2ed97278-ae21-45fc-ad19-fcc97e2e5c36",
   "metadata": {},
   "outputs": [],
   "source": [
    "x0 = 0.4\n",
    "eps = 1e-5\n",
    "x00 = my_Newton(f,f_p1,x0,eps)\n",
    "x00"
   ]
  },
  {
   "cell_type": "code",
   "execution_count": null,
   "id": "5d4d2796-bbf6-4a46-8919-47ab7bff30d0",
   "metadata": {},
   "outputs": [],
   "source": [
    "# Rysowanie wykresu funkcji w przedziale xA - xB\n",
    "# s = np.arange(-10, 10.05, 0.05)\n",
    "[xA,xB]=[-2,2]\n",
    "n_pkt=101      # liczba punktów w xA- xB\n",
    "s = np.linspace(xA, xB, n_pkt)   # punkty podziału x\n",
    "t = f(s)                          # wartości f(x)\n",
    "\n",
    "#opcje rysunku\n",
    "fig = plt.figure()\n",
    "ax = fig.add_subplot(1, 1, 1)\n",
    "# ramki rysunku jako osie\n",
    "# ax.spines.left.set_position('zero')  #   tej krawedzi ramki nie przesuwamy\n",
    "ax.spines.bottom.set_position('zero')\n",
    "ax.spines.right.set_visible(False)     # niewidoczne ramki rysunku\n",
    "ax.spines.top.set_visible(False)\n",
    "\n",
    "xRES = [x00]                           # punkt końcowy algorytmu\n",
    "yRES=[f(x00)]\n",
    "# opcje rysowania punktów \n",
    "ax.scatter(xRES,yRES,c='b')           # wartości funkcji w punkcie. końcowym - kolor niebieski\n",
    "\n",
    "plt.plot(s, t)\n",
    "plt.show()"
   ]
  },
  {
   "cell_type": "markdown",
   "id": "18c79426-47a2-434e-9105-0698b3c9ce16",
   "metadata": {},
   "source": [
    "<mark>__Problemy:__</mark>\n",
    "1) jak zmodyfikować (napisać nową) funkcje tak aby można było prześledzić historię szukania pierwiastka  \n",
    "2) jak użyć metody Newtona gdy nie znamy pochodnej funkcji f (przyjmij że _\"nie da się jej policzyć\"_)"
   ]
  },
  {
   "cell_type": "markdown",
   "id": "bf8efb63-9844-48f6-8fd2-bcbabb39deb9",
   "metadata": {},
   "source": [
    "### UWAGA\n",
    "\n",
    "#### Dla Algorytmu metody Newtona \n",
    "aby uzyskać zbieżność metody i znaleźć pierwiastek w przedziale [ __x<sub>a</sub>__, __x<sub>b</sub>__ ]  \n",
    "należy sprawdzić czy dla danej funkcj ___f(x)___ \n",
    "i wybranych &nbsp; __x<sub>a</sub>__ &nbsp; &nbsp; __x<sub>b</sub>__ &nbsp; oraz &nbsp; __x<sub>0</sub>__ &nbsp; zachodzi:\n",
    "> <mark>__f<sup>'</sup>( $x$ )__  i __f<sup>''</sup>( $x$ )__ nie zmieniają znaku w przedziale __[ $ x_a,  x_b $ ]__ </mark>\n",
    ">\n",
    "> __f ( $ x_a $ ) * f( $ x_b $ ) < 0__\n",
    ">\n",
    "> <mark>__f( $x_0$ )__  * __f<sup>''</sup>( $x_0$ ) > 0__ </mark>\n",
    "> \n"
   ]
  },
  {
   "cell_type": "code",
   "execution_count": null,
   "id": "b41a9372-1102-4cde-999a-17f9a50e6ea7",
   "metadata": {},
   "outputs": [],
   "source": [
    "# Zdefiniowanie funkcji  f(x) i obliczenie pochodnych\n",
    "#                              jak chcesz to policz \"ręcznie\" i sprawdź czy wychodzi to samo\n",
    "x = sym.Symbol('x')           # od tej pory x traktowane jest jako symbol\n",
    "\n",
    "sym_f = sym_x**2-2            # funkcja f(x) SYBMOLICZNIE\n",
    "\n",
    "sym_f_p1 = sym.diff(sym_f,x)    # pierwsza pochodna\n",
    "sym_f_p2= sym.diff(sym_f_p1,x)  # druga pochodna\n",
    "sym_f                    # Wyświetlenie wzoru symbolicznego\n"
   ]
  },
  {
   "cell_type": "code",
   "execution_count": null,
   "id": "a454ef8c-a563-4eb0-b831-148a86134cd1",
   "metadata": {},
   "outputs": [],
   "source": [
    "# a teraz powrót do postaci \"numerycznych\" \n",
    "f = sym.lambdify(x, sym_f)\n",
    "f_p1 = sym.lambdify(x, sym_f_p1)\n",
    "f_p2 = sym.lambdify(x, sym_f_p2)\n",
    "# lf_p2 = lambda x_: 2.\n",
    "ax=1;      # dla jakiegoś x policzenie wartości funkcji i jej pochodnych\n",
    "(f(ax),f_p1(ax), f_p2(ax))"
   ]
  },
  {
   "cell_type": "code",
   "execution_count": null,
   "id": "ee9f8847-aaf8-481a-9a4f-2516d87fc839",
   "metadata": {},
   "outputs": [],
   "source": [
    "x0=0.01;\n",
    "tol=1e-5\n",
    "x0f=my_Newton(f, f_p1, x0, tol)"
   ]
  },
  {
   "cell_type": "code",
   "execution_count": null,
   "id": "4ba9c122-9505-4167-8f50-c2a92557c4dd",
   "metadata": {},
   "outputs": [],
   "source": [
    "sym_g = -(x**2-2)*(x-30)*(x+30)/900               # funkcja g(x) SYBMOLICZNIE\n",
    "sym_g_p1 = sym.diff(sym_g,x)                      # pierwsza pochodna\n",
    "sym_g_p2 = sym.diff(sym_g_p1,x)                   # druga pochodna\n",
    "\n",
    "g = sym.lambdify(x, sym_g)\n",
    "g_p1 = sym.lambdify(x, sym_g_p1)\n",
    "g_p2 = sym.lambdify(x, sym_g_p2)\n",
    "\n",
    " # dla x0 = 0.04, 0.05,0.06\n",
    "x00g=my_Newton(g, g_p1, x0, tol)"
   ]
  },
  {
   "cell_type": "code",
   "execution_count": null,
   "id": "c5ffeb40-e5e3-47ab-bf86-c0782911e8ef",
   "metadata": {},
   "outputs": [],
   "source": [
    "# Rysowanie wykresu funkcji fun (x) i jej pochodnych\n",
    "(fun,fun_p1,fun_p2)=(f,f_p1,f_p2)   # \"wyhashować# nipeotrzebną linie \n",
    "#(fun,fun_p1,fun_p2)=(g,g_p1,g_p2)\n",
    "\n",
    "# przedział rysowania\n",
    "[xA,xB]=[-30,30]\n",
    "n_pkt=101                        # liczba punktów w xA- xB\n",
    "s = np.linspace(xA, xB, n_pkt)   # punkty podziału x\n",
    "\n",
    "xRES = [x0f]                     # punkt końcowy algorytmu pierwiastek funkcji f(x)\n",
    "yRES=[f(x0f)]\n",
    "\n",
    "# wybór obliczeni wartości y dla funkcji, pochodnej i drugiej pochodnej wybranej funkcji\n",
    "yfun=[fun(elm) for elm in s]    # wartości fun'(x)\n",
    "yfun_p1=[fun_p1(elm) for elm in s]    # wartości fun'(x)\n",
    "yfun_p2=[fun_p2(elm) for elm in s]    # wartości fun''(x)  \n",
    "\n",
    "scala=max(yfun)\n",
    "znak_fun = scala*0.5*np.sign(yfun)\n",
    "znak_fun_p1 = scala*0.3*np.sign(yfun_p1)\n",
    "znak_fun_p2 = scala*0.25*np.sign(yfun_p2)\n",
    "\n",
    "#opcje rysunku\n",
    "fig=plt.figure(figsize=(10,6))    # rozmiary rysunku  UWAGA na skalowanie wartości\n",
    "ax = fig.add_subplot(1, 1, 1)\n",
    "# ramki rysunku jako osie\n",
    "# ax.spines.left.set_position('zero')  #   tej krawędzi ramki nie przesuwamy\n",
    "ax.spines.bottom.set_position('zero')\n",
    "ax.spines.right.set_visible(False)     # niewidoczne ramki rysunku\n",
    "ax.spines.top.set_visible(False)\n",
    "\n",
    "# opcje rysowania punktów \n",
    "ax.scatter(xRES,yRES,c='blue')           # wartości funkcji w punkcie. końcowym - kolor niebieski\n",
    "ax.scatter(s, znak_fun,c=\"b\",marker=\".\",linewidth=0.3)\n",
    "ax.scatter(s, znak_fun_p1,c=\"orange\",marker=\".\",linewidth=0.3)\n",
    "ax.scatter(s, znak_fun_p2,c=\"g\",marker=\".\",linewidth=0.3)\n",
    "\n",
    "plt.plot(s, yfun, color=\"blue\")\n",
    "plt.plot(s, yfun_p1,linewidth=1, color=\"orange\")\n",
    "plt.plot(s, yfun_p2,linewidth=1, color=\"g\")\n",
    "\n",
    "plt.show()"
   ]
  },
  {
   "cell_type": "markdown",
   "id": "3988ede9-1471-4f75-a078-db3ddf701a26",
   "metadata": {},
   "source": [
    "## Przypomnijmy\n",
    "> <mark>__f<sup>'</sup>( $x$ )__  i __f<sup>''</sup>( $x$ )__ nie zmieniają znaku w przedziale __[ $ x_a,  x_b $ ]__ </mark>\n",
    ">\n",
    "> __f &nbsp; ( $ x_a $ ) * f( $ x_b $ ) < 0__\n",
    ">\n",
    "> <mark>__f( $x_0$ )__  * __f<sup>''</sup>( $x_0$ ) > 0__ </mark>\n",
    "> "
   ]
  }
 ],
 "metadata": {
  "kernelspec": {
   "display_name": "Python 3 (ipykernel)",
   "language": "python",
   "name": "python3"
  },
  "language_info": {
   "codemirror_mode": {
    "name": "ipython",
    "version": 3
   },
   "file_extension": ".py",
   "mimetype": "text/x-python",
   "name": "python",
   "nbconvert_exporter": "python",
   "pygments_lexer": "ipython3",
   "version": "3.9.13"
  }
 },
 "nbformat": 4,
 "nbformat_minor": 5
}
