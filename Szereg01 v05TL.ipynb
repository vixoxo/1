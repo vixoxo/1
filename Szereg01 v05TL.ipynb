{
 "cells": [
  {
   "cell_type": "code",
   "execution_count": 1,
   "id": "d9b067f8-841c-4326-bccc-587648d0398d",
   "metadata": {},
   "outputs": [],
   "source": [
    "# potrzebne biblioteki\n",
    "import numpy as np\n",
    "import math          # inna biblioteka metod numerycznych (sin, cos .....)\n",
    "import matplotlib.pyplot as plt"
   ]
  },
  {
   "cell_type": "markdown",
   "id": "af683481-475c-453b-9446-2681b2b554ba",
   "metadata": {},
   "source": [
    "#### Ile wynosi wartość przybliżona &nbsp;  $ sin(x)  $ &nbsp; &nbsp;  dla &nbsp;  &nbsp;  $ x \\approx $ 0.0 &nbsp; ?   \n",
    "a zatem ile wynosi wartość przybliżona &nbsp;  $ cos(x)  $ &nbsp; &nbsp;  dla &nbsp;  &nbsp;  $ x \\approx $ 0.0 &nbsp; ?   "
   ]
  },
  {
   "cell_type": "code",
   "execution_count": 7,
   "id": "1c02da8b-974c-42ed-abd3-c15eb7964f59",
   "metadata": {},
   "outputs": [
    {
     "name": "stdout",
     "output_type": "stream",
     "text": [
      "1.0\n",
      "3.141592653589793 3.141592653589793\n"
     ]
    }
   ],
   "source": [
    "# wartośc PI w PYTHON\n",
    "print (math.pi/ np.pi)\n",
    "print (math.pi, np.pi)"
   ]
  },
  {
   "cell_type": "markdown",
   "id": "1a4f3a31-9a2d-4b76-868d-ba5b1eceeeac",
   "metadata": {},
   "source": [
    "### Obliczanie wartości szergu naprzemiennego\n",
    "\n",
    "##### $ \\sin (x)  \\approx  x -  \\dfrac{x^3}{3 !} + \\dfrac{x^5}{5 !}   - .... = \\sum_{i = 1}^{\\infty} (-1)^{n+1} \\dfrac{x^{2n-1}}{(2n-1) ! } = a_1 + a_2+ a_3 + .... $  \n",
    "gdzie:\n",
    "> $a_1=x$  \n",
    "> $ a_{n} = a_{n-1} * (-1) \\dfrac{x^2}{(2 n -2)  * (2 n - 1 )} $ &nbsp; &nbsp; dla &nbsp; &nbsp; $ n = 2, 3, ....$    \n",
    "\n",
    "algorytm:\n",
    "> $ suma = x $  \n",
    "> $ wyraz = x $   \n",
    "> $ n = 1 $  \n",
    ">  dopóki: &nbsp; $ | wyraz | > eps$ &nbsp; powtarzaj :\n",
    ">> $ wyraz = wyraz * (-1) \\dfrac{x^2}{(2 n -2)  * (2 n - 1 )} $  \n",
    ">> $ suma = suma + wyraz $  \n",
    ">> $ n = n+1 $  \n",
    "\n",
    "<mark> __Uwaga:__  \n",
    "z reguły lepszym rozwiązaniem jest danie warunku:  </mark> &nbsp; &nbsp; &nbsp; $ | \\dfrac{wyraz}{suma}| > eps$  \n",
    "\n",
    "- w pierwszym przypadku _dodajemy_ __odpowiednio__ duże wyrazy\n",
    "- w drugim przypadku _dodajemy_  tylko te wyrazy które __coś__ znaczą w stosunku do już policzonej __sumy__\n"
   ]
  },
  {
   "cell_type": "code",
   "execution_count": 6,
   "id": "7b37db4e-057e-4b0f-82f9-392127faef47",
   "metadata": {},
   "outputs": [],
   "source": [
    "# definicja szergegu sin\n",
    "def MYsin(x,eps):\n",
    "    n=1\n",
    "    wyraz=x\n",
    "    suma=wyraz\n",
    "    while abs(wyraz) > eps:\n",
    "        n+=1\n",
    "        if n==100:\n",
    "            break   # bezpiecznik na błedny kod - wykona się tylko 100 \"pętli\"\n",
    "        wyraz=wyraz *(-1)*x**2/(2*n-2)/(2*n-1)\n",
    "        suma=suma + wyraz\n",
    "        print(n, \" wyraz= \", wyraz, \"   suma =\", suma) # testowe \n",
    "    return suma    \n"
   ]
  },
  {
   "cell_type": "code",
   "execution_count": 33,
   "id": "8465974b-520e-4e49-ac74-4f5614add5b4",
   "metadata": {},
   "outputs": [
    {
     "name": "stdout",
     "output_type": "stream",
     "text": [
      "2  wyraz=  -0.6449821666666667    suma = 0.9250178333333333\n",
      "3  wyraz=  0.07949082713083334    suma = 1.0045086604641666\n",
      "4  wyraz=  -0.004665165233209313    suma = 0.9998434952309573\n",
      "5  wyraz=  0.00015971063587968937    suma = 1.0000032058668369\n",
      "6  wyraz=  -3.5788249670895127e-06    suma = 0.9999996270418698\n",
      "7  wyraz=  5.6547728598582954e-08    suma = 0.9999996835895985\n",
      "8  wyraz=  -6.637356962983196e-10    suma = 0.9999996829258627\n",
      "9  wyraz=  6.0148607272269416e-12    suma = 0.9999996829318776\n",
      "10  wyraz=  -4.3350965516203764e-14    suma = 0.9999996829318343\n",
      "11  wyraz=  2.5441855928783493e-16    suma = 0.9999996829318345\n",
      "0.9999996829318345\n"
     ]
    }
   ],
   "source": [
    "MYpi=3.14         # przybliżona \"potoczna\" wartość PI\n",
    "pimult=1/2\n",
    "\n",
    "MYx=MYpi * pimult # przybliżona \"błedna\" wartość argumentu funkcji\n",
    "x=np.pi *pimult   # dokładna wartość argumentu  - dokładna w sensie reprezentacji liczby w komputerzez błędem rzędu 1e-15\n",
    "\n",
    "eps=1e-15     # założona dokładność obliczenia sumy szeregu\n",
    "msin=MYsin(MYx,eps)\n",
    "print(msin)"
   ]
  },
  {
   "cell_type": "code",
   "execution_count": 15,
   "id": "14e602e7-4362-48f3-b49c-57bca006719a",
   "metadata": {},
   "outputs": [],
   "source": [
    "# analiza błędu dla liczenia szeregu\n",
    "npsin=np.sin(x)     # wartość dokładna sumy szeregu"
   ]
  },
  {
   "cell_type": "code",
   "execution_count": 34,
   "id": "230bf5ce-64b3-4240-bcea-57bf9dd6e9b0",
   "metadata": {},
   "outputs": [
    {
     "name": "stdout",
     "output_type": "stream",
     "text": [
      "MYsin dla  x = 1.57  z dokładnością : 1e-15 , MYsin(x)= 0.9999996829318345\n",
      "sin(x) dla x = 1.5707963267948966        wynosi sin(x)= 1.0\n",
      "\n",
      "błąd bezwzględny argumentu    =  -0.0007963267948964958\n",
      "błąd względny argumentu       =  -0.000507214519042354\n",
      "błąd bezwzględny sumy szeregu =  -3.1706816550070016e-07\n",
      "błąd względny sumy szeregu    =  -3.1706816550070016e-07\n"
     ]
    }
   ],
   "source": [
    "print(\"MYsin dla  x =\",MYx , \" z dokładnością :\", eps, \", MYsin(x)=\",msin)\n",
    "print(\"sin(x) dla x =\",x,\"       wynosi sin(x)=\", np.sin(x))\n",
    "print()\n",
    "# założono \"błedną wartość pi -> MYpi \n",
    "print(\"błąd bezwzględny argumentu    = \", MYx-x)\n",
    "if abs(MYx)!=0:\n",
    "    print(\"błąd względny argumentu       = \", (MYx-x)/MYx)\n",
    "# nie zawsze jest dobrze\n",
    "print(\"błąd bezwzględny sumy szeregu = \", msin-npsin)\n",
    "if abs(npsin)!=0:\n",
    "    print(\"błąd względny sumy szeregu    = \", (msin-npsin)/npsin)"
   ]
  },
  {
   "cell_type": "markdown",
   "id": "752afae7-6734-4b5c-b40f-3971fe21f7f7",
   "metadata": {},
   "source": [
    "#### Dla jakich wartości $ \\pi $ :\n",
    "- bład bezwględny sumy szeregu jest\n",
    "  - największy\n",
    "  - najmniejszy\n",
    "- bład względny sumy szeregu jest\n",
    "  - największy\n",
    "  - najmniejszy\n",
    "- czy wartość błedów ma taką samą okresowość jak funkcja $ sin(x) $"
   ]
  },
  {
   "cell_type": "code",
   "execution_count": null,
   "id": "2901f588-7735-42c3-8f16-05bc1bca2d6a",
   "metadata": {},
   "outputs": [],
   "source": []
  }
 ],
 "metadata": {
  "kernelspec": {
   "display_name": "Python 3 (ipykernel)",
   "language": "python",
   "name": "python3"
  },
  "language_info": {
   "codemirror_mode": {
    "name": "ipython",
    "version": 3
   },
   "file_extension": ".py",
   "mimetype": "text/x-python",
   "name": "python",
   "nbconvert_exporter": "python",
   "pygments_lexer": "ipython3",
   "version": "3.9.13"
  }
 },
 "nbformat": 4,
 "nbformat_minor": 5
}
