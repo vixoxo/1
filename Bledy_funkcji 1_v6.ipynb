{
 "cells": [
  {
   "cell_type": "code",
   "execution_count": 1,
   "id": "b4ac8868",
   "metadata": {},
   "outputs": [],
   "source": [
    "#Import bibliotek \n",
    "import numpy as np\n",
    "import matplotlib.pyplot as plt\n",
    "import sympy as sym    "
   ]
  },
  {
   "cell_type": "markdown",
   "id": "c321660e-216e-4cb0-87a4-6a7cfc881d44",
   "metadata": {},
   "source": [
    "pamiętaj o <mark>___Shift + Enter___</mark>"
   ]
  },
  {
   "cell_type": "code",
   "execution_count": 2,
   "id": "67631acb-9066-4c1d-b27a-4db0ce9ecd0b",
   "metadata": {},
   "outputs": [
    {
     "data": {
      "text/plain": [
       "True"
      ]
     },
     "execution_count": 2,
     "metadata": {},
     "output_type": "execute_result"
    }
   ],
   "source": [
    "# Jaki  będzie wynik tej operacji\n",
    "0.5 + 0.5 + 0.5 == 1.5"
   ]
  },
  {
   "cell_type": "markdown",
   "id": "7ba15266",
   "metadata": {},
   "source": [
    "***\n",
    "# Teoria błędów"
   ]
  },
  {
   "cell_type": "markdown",
   "id": "37a769c3-3f08-4ce9-9032-420d53afb0b3",
   "metadata": {},
   "source": [
    "## Wprowadzenie"
   ]
  },
  {
   "cell_type": "markdown",
   "id": "87b7b47a-ed5a-47af-b3c2-ed388508710e",
   "metadata": {},
   "source": [
    "W obliczeniach często zamiast dokładnych wartości liczb stosujemy ich przybliżone wartości. Jeżeli przez $\\tilde x$ oznaczymy wartość przybliżoną liczby dokładnej $x$ to __błąd bezwzględny__ tego przybliżenia z definicji jest równy:\n",
    "$$\\Delta_x = |x- \\tilde x|$$, \n",
    "a __błąd względny__:\n",
    "$$\\delta_x = |\\dfrac{x- \\tilde x}{x}| = \\dfrac{\\Delta_x}{x}$$"
   ]
  },
  {
   "cell_type": "markdown",
   "id": "1c74e3d2-7100-4e29-9c1e-a1972cd8417e",
   "metadata": {},
   "source": [
    "Przykład 1. \n",
    "\n",
    "$x = 2.684$, $\\tilde x = 3$. \n",
    "\n",
    "Zatem \n",
    "\n",
    "$$\\Delta_x = |x - \\tilde x| =  0.316$$\n",
    "\n",
    "$$\\delta_x = \\dfrac{\\Delta_x}{|x|} = 0.117735 \\approx 11.77\\% $$"
   ]
  },
  {
   "cell_type": "markdown",
   "id": "c3245ba4-f882-4158-8194-1d6af2d86cfc",
   "metadata": {},
   "source": [
    "Przykład 2. \n",
    "\n",
    "$x = 10002.684$, $\\tilde x = 10003$. \n",
    "\n",
    "Zatem \n",
    "\n",
    "$$\\Delta_x = |x - \\tilde x| =  0.316$$\n",
    "\n",
    "$$\\delta_x = \\dfrac{\\Delta_x}{|x|} = 0.0000315915 \\approx 0.00316\\%$$"
   ]
  },
  {
   "cell_type": "markdown",
   "id": "4d2c8661-8ff4-4a93-8090-5335f7a7f60b",
   "metadata": {},
   "source": [
    "W praktyce na ogół nie znamy dokładnych wartości błędu bezwzględnego <mark> $\\Delta_x $ </mark> i względnego i korzystamy z oszacowań tych błędów <mark> $\\Delta x$ </mark> : \n",
    "$$\\Delta_x \\leq \\Delta x$$\n",
    "$$\\delta_x \\leq \\delta x$$\n",
    "Oszacowanie liczby $x$ dla błędu bezwzględnego zapiszemy:\n",
    "$$\\tilde x - \\Delta x \\leq x \\leq \\tilde x + \\Delta x$$"
   ]
  },
  {
   "cell_type": "markdown",
   "id": "629b5ad1-a661-422d-a3b8-3d61f3718262",
   "metadata": {},
   "source": [
    "Przy szacowaniu błędu bezwzględnego i względnego, jeżeli trzeba zaokrąglić daną liczbę, to <u>zawsze dokonujemy zaokrąglenia __w górę__ </u>."
   ]
  },
  {
   "cell_type": "markdown",
   "id": "d9863add-b3e7-414d-983d-2467994479bb",
   "metadata": {},
   "source": [
    "### Błąd wartości funkcji"
   ]
  },
  {
   "cell_type": "markdown",
   "id": "be238661-4ae7-4ea9-bc16-ad5602ab8ea1",
   "metadata": {},
   "source": [
    "Niech dana będzie funkcja różniczkowalna $f$ i niech $\\Delta x$ będzie błędem bezwzględnym argumentu tej funkcji."
   ]
  },
  {
   "cell_type": "markdown",
   "id": "57d13e75-651b-49db-86b7-469571955e02",
   "metadata": {},
   "source": [
    "Chcemy wyznaczyć błąd bezwzględny i względny wartości funkcji \n",
    "$$y =f(x)$$\n",
    ", gdy znane jest oszacowanie błędu $\\Delta x$ jej argumentu."
   ]
  },
  {
   "cell_type": "markdown",
   "id": "562a5e58-fb46-43df-8eba-e6a6d6ba64c4",
   "metadata": {},
   "source": [
    "Dla dostatecznie małych wartości $(\\tilde x-x)$ mamy:\n",
    "$$f(\\tilde x) \\approx f(x) + f'(x)(\\tilde x-x)$$\n",
    "Zatem,\n",
    "$$\\Delta_f \\approx |f'|\\cdot  \\Delta_x $$\n",
    "oraz \n",
    "$$\\delta_f \\approx \\dfrac{\\Delta_f}{|f|}$$"
   ]
  },
  {
   "cell_type": "markdown",
   "id": "be90d64c-b308-4fb0-a7fe-2f0188c76dfa",
   "metadata": {},
   "source": [
    "Przechodząc na oszacowanie błędu bewzględnego i względnego argumentu otrzymujemy:  \n",
    "oszacowanie błędu __bezwzględnego__ funkcji $f$  \n",
    "$$\\Delta f = |f'| \\cdot \\Delta x$$  \n",
    "i b ledu __względnego__ funkcji $f$\n",
    "$$\\delta f = \\dfrac{\\Delta f}{|f|}$$"
   ]
  },
  {
   "cell_type": "markdown",
   "id": "587e6339-1caa-4d2d-a01c-79b0a6c80e90",
   "metadata": {},
   "source": [
    "Analogicznie w przypadku funkcji wielu zmiennych $z=f(x,y)$ i oszacowania błedów bezwzględnych argumentów $\\Delta x$, $\\Delta y$ otrzymujemy następujące wzory na oszacowanie błedów bezwzględnego i względnego wartości funkcji $f$\n",
    "$$\\Delta f = |\\dfrac{\\partial f}{\\partial x} (x,y)| \\cdot \\Delta x + |\\dfrac{\\partial f}{\\partial y} (x,y)| \\cdot \\Delta y$$\n",
    "$$\\delta f = \\dfrac{\\Delta f}{|f(x,y)|}$$"
   ]
  },
  {
   "cell_type": "markdown",
   "id": "92d13608-9b8b-4755-b8bc-17528a57ec9f",
   "metadata": {},
   "source": [
    "## Podsumowanie oszacowań błędów"
   ]
  },
  {
   "cell_type": "markdown",
   "id": "a5819a9c",
   "metadata": {},
   "source": [
    "#### Błąd bezwzględny wartości argumentu : $ \\qquad \\Delta x $\n",
    "\n",
    "#### Błąd bezwzględny wartości funkcji :  $ \\qquad \\quad \\Delta f = |f'(x)| \\cdot \\Delta x$\n",
    "\n",
    "#### Błąd względny argumentu : $  \\qquad \\qquad \\qquad  \\delta x = \\dfrac {\\Delta x}{|x|} $\n",
    "\n",
    "#### Błąd względny wartości funkcji :  $\\qquad \\qquad   \\delta f = \\dfrac{\\Delta f}{|f(x)|}$\n",
    "#### <u>Wskaźnik uwarunkowania</u> : $\\qquad \\qquad \\qquad  C(x) = | \\dfrac{x \\cdot f'(x)}{f(x)} |$\n",
    "\n",
    "Zauważmy, że $\\delta f = \\dfrac{\\Delta f}{|f(x)|} = \\dfrac{|f'(x)| \\cdot \\Delta x}{|f(x)|} = \\dfrac{|f'(x)| \\cdot \\delta x \\cdot {|x|}}{|f(x)|} =| \\dfrac{x \\cdot f'(x)}{f(x)} | \\cdot \\delta x = C(x) \\cdot \\delta x $\n",
    "\n",
    "#### <u>Wskaźnik uwarunkowania (funkcja wielu zmiennych)</u>\n",
    "$$C_x = |\\dfrac{x \\cdot \\frac{\\partial f}{\\partial x} (x,y)}{f(x,y)}|$$\n",
    "$$C_y = |\\dfrac{y \\cdot \\frac{\\partial f}{\\partial y} (x,y)}{f(x,y)}|$$\n",
    "\n",
    "Zauważmy, że $\\delta f = C_x \\cdot \\delta x + C_y \\cdot \\delta y $"
   ]
  },
  {
   "cell_type": "markdown",
   "id": "4e06e905",
   "metadata": {},
   "source": [
    "### Nazwy zmiennych przyjęte w `Python`\n",
    "\n",
    "> zmienną $\\Delta f$ będziemy oznaczać `D_f`  a zmienną  $\\Delta x $  przez `D_x` &nbsp; &nbsp; &nbsp; (bezwględne)  \n",
    "> zmienną $\\delta f$ będziemy oznaczać `d_f` oraz analogicznie $\\delta x $ przez `d_x`&nbsp; &nbsp; &nbsp;  (względne)\n",
    ">\n",
    "> pochodne f'(x)  f''(x)  f'''(x) odpowiednio `f_p1` `f_p2` `f_p3`\n"
   ]
  },
  {
   "cell_type": "markdown",
   "id": "c6241cac",
   "metadata": {},
   "source": [
    "***\n",
    "## Zadanie 1\n",
    "Wyznaczyć błąd __bezwględny__ i __względny__ jaki popełniamy przy obliczaniu wartości funkcji jednej zmiennej:\n",
    "\n",
    "$$f(x) = \\dfrac{1}{1+x^2}$$ \n",
    "\n",
    "w punkcie $x = 1.38$ (wiadomo, że argument obarczony jest błędem __bezwzględnym__ $\\Delta x = 0.03$). \n",
    "\n",
    "Dodatkowo:\n",
    "1. sprawdzić czy zadanie jest dobrze uwarunkowane,\n",
    "2. zbadać uwarunkowanie zadania dla dowolnych argumentów,\n",
    "3. dla jakich argumentów wskaźnik nie przekracza wartości $1$,\n",
    "4. narysować wykres wskaźnika uwarunkowania w przedziale $[-5,5]$."
   ]
  },
  {
   "cell_type": "markdown",
   "id": "faee4c7f-9701-451c-afc1-c75e8585e7fd",
   "metadata": {},
   "source": [
    "### Wczytanie danych zadania"
   ]
  },
  {
   "cell_type": "code",
   "execution_count": 3,
   "id": "41c77d4a",
   "metadata": {},
   "outputs": [
    {
     "data": {
      "text/latex": [
       "$\\displaystyle \\frac{1}{x^{2} + 1}$"
      ],
      "text/plain": [
       "1/(x**2 + 1)"
      ]
     },
     "execution_count": 3,
     "metadata": {},
     "output_type": "execute_result"
    }
   ],
   "source": [
    "# Zdefiniowanie funkcji  f(x)\n",
    "x = sym.Symbol('x')      # od tej pory x traktowane jest jako symbol\n",
    "sym_f = 1/(x**2 + 1)     # funkcja f(x) ale SYBMOLICZNIE\n",
    "D_x = 0.03               # błąd bezwzględny argumentu\n",
    "sym_f                    # Wyświetlenie wzoru symbolicznego"
   ]
  },
  {
   "cell_type": "markdown",
   "id": "ada1a907-b20c-4fa7-a66d-46ae425c835b",
   "metadata": {},
   "source": [
    "### Obliczenia"
   ]
  },
  {
   "cell_type": "code",
   "execution_count": 4,
   "id": "15691b7c-0182-4861-8e57-9f8b86016809",
   "metadata": {},
   "outputs": [
    {
     "data": {
      "text/latex": [
       "$\\displaystyle - \\frac{2 x}{\\left(x^{2} + 1\\right)^{2}}$"
      ],
      "text/plain": [
       "-2*x/(x**2 + 1)**2"
      ]
     },
     "execution_count": 4,
     "metadata": {},
     "output_type": "execute_result"
    }
   ],
   "source": [
    "# Obliczenie pochodnej funkcji f:\n",
    "sym_f_p1 = sym.diff(sym_f, x)   # symboliczne obliczenie pochodnej, w tym miejscu korzystamy z biblioteki sympy\n",
    "sym_f_p1                    # i wyświetlenie pochodnej"
   ]
  },
  {
   "cell_type": "code",
   "execution_count": 5,
   "id": "6e00e8d5",
   "metadata": {},
   "outputs": [
    {
     "data": {
      "text/latex": [
       "$\\displaystyle 2 \\left|{\\frac{x^{2}}{x^{2} + 1}}\\right|$"
      ],
      "text/plain": [
       "2*Abs(x**2/(x**2 + 1))"
      ]
     },
     "execution_count": 5,
     "metadata": {},
     "output_type": "execute_result"
    }
   ],
   "source": [
    "# Policzenie błędów  - wszystko symbolicznie -\n",
    "sym_d_x = sym.simplify(D_x / abs(x))          # błąd względny argumentu\n",
    "sym_D_f = sym.simplify(abs(sym_f_p1) * D_x)   # błąd bezwzględny funkcji\n",
    "sym_d_f = sym.simplify(sym_D_f / abs(sym_f))  # błąd względny funkcji\n",
    "sym_C = sym.simplify(abs((x*sym_f_p1)/sym_f))        # wskaźnik uwarunkowania z użyciem funkcji bibliotecznej simplify\n",
    "sym_C"
   ]
  },
  {
   "cell_type": "code",
   "execution_count": 6,
   "id": "143c3dca-332d-4d7a-9ff4-7c80802e3218",
   "metadata": {},
   "outputs": [
    {
     "data": {
      "text/latex": [
       "$\\displaystyle 0.06 \\left|{\\frac{x}{\\left(x^{2} + 1\\right)^{2}}}\\right|$"
      ],
      "text/plain": [
       "0.06*Abs(x/(x**2 + 1)**2)"
      ]
     },
     "execution_count": 6,
     "metadata": {},
     "output_type": "execute_result"
    }
   ],
   "source": [
    "# wyświetl co chcesz tylko dobrze podstaw do zmiennej showItem\n",
    "showItem = sym_D_f\n",
    "# print(showItem)\n",
    "showItem"
   ]
  },
  {
   "cell_type": "markdown",
   "id": "b6bb1423-9946-4eba-a696-0eab05827d66",
   "metadata": {},
   "source": [
    "Zauważmy, że funkcje sym_d_x, sym_D_f, sym_d_f, sym_C zdefiniowane wyżej są zapisane w formie symbolicznej tzn. <u> nie mogę na razie policzyć np sym_d_f(1) </u>"
   ]
  },
  {
   "cell_type": "code",
   "execution_count": 7,
   "id": "7eb7ce75-f47c-4593-8990-3d1b0ee31a72",
   "metadata": {},
   "outputs": [
    {
     "ename": "TypeError",
     "evalue": "'Mul' object is not callable",
     "output_type": "error",
     "traceback": [
      "\u001b[1;31m---------------------------------------------------------------------------\u001b[0m",
      "\u001b[1;31mTypeError\u001b[0m                                 Traceback (most recent call last)",
      "Cell \u001b[1;32mIn[7], line 1\u001b[0m\n\u001b[1;32m----> 1\u001b[0m \u001b[43msym_d_f\u001b[49m\u001b[43m(\u001b[49m\u001b[38;5;241;43m1\u001b[39;49m\u001b[43m)\u001b[49m\n",
      "\u001b[1;31mTypeError\u001b[0m: 'Mul' object is not callable"
     ]
    }
   ],
   "source": [
    "sym_d_f(1)"
   ]
  },
  {
   "cell_type": "markdown",
   "id": "3e1949d1",
   "metadata": {},
   "source": [
    "__Zmiana z funkcji symbolicznych na numeryczne__   \n",
    "użycie funkcji <mark>__lambdify__</mark> do utworzenia wzorów _\"numerycznych\"_ ze wzorów _\"symbolicznych\"_"
   ]
  },
  {
   "cell_type": "code",
   "execution_count": 8,
   "id": "ae94f6f3",
   "metadata": {},
   "outputs": [],
   "source": [
    "D_f = sym.lambdify(x, sym_D_f)   \n",
    "d_f = sym.lambdify(x, sym_d_f)\n",
    "d_x = sym.lambdify(x, sym_d_x)\n",
    "C = sym.lambdify(x, sym_C)\n",
    "# teraz symbole D_f, d_f, d_x, C traktowane są jako funkcje jednej zmiennej"
   ]
  },
  {
   "cell_type": "code",
   "execution_count": 9,
   "id": "45b6e8a2",
   "metadata": {},
   "outputs": [
    {
     "data": {
      "text/plain": [
       "0.024"
      ]
     },
     "execution_count": 9,
     "metadata": {},
     "output_type": "execute_result"
    }
   ],
   "source": [
    "# Teraz możemy policzyć wartość funkcji d_f:\n",
    "d_f(2)"
   ]
  },
  {
   "cell_type": "markdown",
   "id": "b43e5599-def9-4db9-8ff3-dc4695cc123c",
   "metadata": {},
   "source": [
    "### Wyniki"
   ]
  },
  {
   "cell_type": "code",
   "execution_count": 10,
   "id": "88e5aa1a-9f38-4c65-baa9-68098601dd54",
   "metadata": {},
   "outputs": [
    {
     "name": "stdout",
     "output_type": "stream",
     "text": [
      "dla x= 1.38 BŁĄD: bezwzględny D_f(x)= 0.009815614208692399 względny d_f(x)= 0.028508469907726208 \n",
      "wsk. uwarunk C(x)= 1.3113896157554055\n"
     ]
    }
   ],
   "source": [
    "# Odpowiedź: błąd bezwzględny i względny obliczonej funkcji w punkcie x=1.38\n",
    "x = 1.38\n",
    "print(\"dla x=\", x, \"BŁĄD: bezwzględny D_f(x)=\", D_f(x), \"względny d_f(x)=\", d_f(x), \"\\nwsk. uwarunk C(x)=\", C(x))"
   ]
  },
  {
   "cell_type": "markdown",
   "id": "9cb92e01-0e4b-41bd-8f82-98895fc52f61",
   "metadata": {},
   "source": [
    "Odpowiedź 1: Wskaźnik uwarunkowania jest bliski 1, zatem zadanie dla danego argumentu $x$ jest dobrze uwarunkowane."
   ]
  },
  {
   "cell_type": "markdown",
   "id": "3b8e0978-b55e-4d0a-817a-e596a55abfa0",
   "metadata": {},
   "source": [
    "Odpowiedź 2: \n",
    "Zgodnie z otrzymanym wzorem na wskaźnik uwarunkowania:"
   ]
  },
  {
   "cell_type": "code",
   "execution_count": 11,
   "id": "d6bdf748-dca1-4a77-bb40-4938e4bda821",
   "metadata": {},
   "outputs": [
    {
     "data": {
      "text/latex": [
       "$\\displaystyle 2 \\left|{\\frac{x^{2}}{x^{2} + 1}}\\right|$"
      ],
      "text/plain": [
       "2*Abs(x**2/(x**2 + 1))"
      ]
     },
     "execution_count": 11,
     "metadata": {},
     "output_type": "execute_result"
    }
   ],
   "source": [
    "sym_C\n"
   ]
  },
  {
   "cell_type": "markdown",
   "id": "bf8b20f7-5ad3-445b-ba5e-cdd7dc5d4322",
   "metadata": {},
   "source": [
    "Wskaźnik uwarunkowania przyjmuje najmniejszą wartość 0 dla argumentu $x=0$, oraz przy $x \\rightarrow \\infty$ dąży do wartości 2. \n",
    "Zatem zadanie jest dobrze uwarunkowane dla $x \\in \\mathbb{R}$."
   ]
  },
  {
   "cell_type": "markdown",
   "id": "82b356d8-63d0-4fd0-9d54-585a61fd269f",
   "metadata": {},
   "source": [
    "Odpowiedź 3: Chcemy znaleźć takie $x$, że $C(x)<1$. Z tego wynika, że musi być spełniona nierówność  $x^2 <= 1$. Zatem wskaźnik uwarunkowania nie przekracza wartości 1, dla argumentów $x \\in [-1,1]$."
   ]
  },
  {
   "cell_type": "markdown",
   "id": "828da215",
   "metadata": {},
   "source": [
    "#### Wykres wskaźnika uwarunkowania"
   ]
  },
  {
   "cell_type": "code",
   "execution_count": 12,
   "id": "254cfd1a",
   "metadata": {},
   "outputs": [
    {
     "data": {
      "image/png": "[encoded data removed]",
      "text/plain": [
       "<Figure size 640x480 with 1 Axes>"
      ]
     },
     "metadata": {},
     "output_type": "display_data"
    }
   ],
   "source": [
    "#s = np.arange(-5, 5.01, 0.01)\n",
    "s = np.linspace(-15, 15, 101)    #  podział przedziału na 100 równych części (odcinków)\n",
    "\n",
    "Cval = C(s)                    # policzenie wartości C dla wszystkich punktów podziału\n",
    "C2=Cval*0+2\n",
    "\n",
    "# tu są niektóre przydatne opcje rysunku\n",
    "fig = plt.figure()                      # def. obiektu figury\n",
    "axy = fig.add_subplot(1, 1, 1)          # def. osi - ramki rysunku \n",
    "axy.spines.left.set_position('zero')    # gdzie ma być wyświetlona  left\n",
    "axy.spines.left.set_color('pink')       # w jakim kolorze           left\n",
    "axy.spines.bottom.set_position('zero')  #                           bottom\n",
    "axy.spines.right.set_visible(False)     # czy ma być wyświetlona    right\n",
    "axy.spines.top.set_visible(False)       #                           top \n",
    "# koniec opcji\n",
    "plt.plot(s, C2)                  # narysowanie granicy zbieżności wskaźnika uwarunkowania\n",
    "plt.plot(s, Cval)                # narysowanie wykresu - dla współrzędnych s wartości Cval\n",
    "\n",
    "plt.show()                       # wyświetlenie wykresu na ekranie"
   ]
  }
 ],
 "metadata": {
  "kernelspec": {
   "display_name": "Python 3 (ipykernel)",
   "language": "python",
   "name": "python3"
  },
  "language_info": {
   "codemirror_mode": {
    "name": "ipython",
    "version": 3
   },
   "file_extension": ".py",
   "mimetype": "text/x-python",
   "name": "python",
   "nbconvert_exporter": "python",
   "pygments_lexer": "ipython3",
   "version": "3.9.13"
  },
  "nbTranslate": {
   "displayLangs": [
    "*"
   ],
   "hotkey": "alt-t",
   "langInMainMenu": true,
   "sourceLang": "en",
   "targetLang": "fr",
   "useGoogleTranslate": true
  }
 },
 "nbformat": 4,
 "nbformat_minor": 5
}
